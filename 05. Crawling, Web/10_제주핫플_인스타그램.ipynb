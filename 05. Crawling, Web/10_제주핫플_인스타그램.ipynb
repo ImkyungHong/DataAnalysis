{
 "cells": [
  {
   "cell_type": "markdown",
   "source": [
    "# 제주도 핫플레이스 - 인스타그램 크롤링"
   ],
   "metadata": {}
  },
  {
   "cell_type": "code",
   "execution_count": 1,
   "source": [
    "from selenium import webdriver\r\n",
    "from bs4 import BeautifulSoup\r\n",
    "import time\r\n",
    "import pandas as pd\r\n",
    "from urllib.parse import quote"
   ],
   "outputs": [],
   "metadata": {}
  },
  {
   "cell_type": "code",
   "execution_count": 8,
   "source": [
    "chromedriver = 'C:/Users/imkyu/Downloads/chromedriver.exe'\r\n",
    "driver = webdriver.Chrome(chromedriver)"
   ],
   "outputs": [],
   "metadata": {}
  },
  {
   "cell_type": "markdown",
   "source": [
    "### 1. Instagram 접속하여 로그인"
   ],
   "metadata": {}
  },
  {
   "cell_type": "code",
   "execution_count": 9,
   "source": [
    "insta_url = 'https://www.instagram.com'\r\n",
    "driver.get(insta_url)\r\n",
    "time.sleep(1)"
   ],
   "outputs": [],
   "metadata": {}
  },
  {
   "cell_type": "code",
   "execution_count": 13,
   "source": [
    "with open('password.txt') as f:\r\n",
    "    password = f.read()"
   ],
   "outputs": [],
   "metadata": {}
  },
  {
   "cell_type": "code",
   "execution_count": 14,
   "source": [
    "email = 'llibeauty'\r\n",
    "input_email = driver.find_element_by_css_selector('._2hvTZ.pexuQ.zyHYP')\r\n",
    "input_email.clear()\r\n",
    "input_email.send_keys(email)"
   ],
   "outputs": [],
   "metadata": {}
  },
  {
   "cell_type": "code",
   "execution_count": 15,
   "source": [
    "input_pwd = driver.find_element_by_name('password')\r\n",
    "input_pwd.clear()\r\n",
    "input_pwd.send_keys(password)\r\n",
    "input_pwd.submit()\r\n",
    "time.sleep(1)"
   ],
   "outputs": [],
   "metadata": {}
  },
  {
   "cell_type": "code",
   "execution_count": 16,
   "source": [
    "# 팝업-알림(로그인정보 저장-안함)\r\n",
    "try:\r\n",
    "    driver.find_element_by_css_selector('.sqdOP.yWX7d.y3zKF').click()\r\n",
    "    time.sleep(1)\r\n",
    "except:\r\n",
    "    pass"
   ],
   "outputs": [],
   "metadata": {}
  },
  {
   "cell_type": "code",
   "execution_count": 17,
   "source": [
    "# 팝업 - 알림(나중에 하기)\r\n",
    "try:\r\n",
    "    driver.find_element_by_css_selector('.aOOlW.HoLwm').click()\r\n",
    "    time.sleep(1)\r\n",
    "except:\r\n",
    "    pass"
   ],
   "outputs": [],
   "metadata": {}
  },
  {
   "cell_type": "markdown",
   "source": [
    "### 2. 제주도 맛집 으로 검색"
   ],
   "metadata": {}
  },
  {
   "cell_type": "code",
   "execution_count": 18,
   "source": [
    "keyword = '제주도맛집'\r\n",
    "search_url = 'https://www.instagram.com/explore/tags/'\r\n",
    "url = f'{search_url}{quote(keyword)}'\r\n",
    "url"
   ],
   "outputs": [
    {
     "output_type": "execute_result",
     "data": {
      "text/plain": [
       "'https://www.instagram.com/explore/tags/%EC%A0%9C%EC%A3%BC%EB%8F%84%EB%A7%9B%EC%A7%91'"
      ]
     },
     "metadata": {},
     "execution_count": 18
    }
   ],
   "metadata": {}
  },
  {
   "cell_type": "code",
   "execution_count": 19,
   "source": [
    "driver.get(url)\r\n",
    "time.sleep(5)   #시간 충분히 줘야 함(화면전환될떄까지기달)"
   ],
   "outputs": [],
   "metadata": {}
  },
  {
   "cell_type": "markdown",
   "source": [
    "### 3. 첫번째 게시글 열기"
   ],
   "metadata": {}
  },
  {
   "cell_type": "code",
   "execution_count": 36,
   "source": [
    "driver.find_element_by_css_selector('div._9AhH0').click()\r\n",
    "time.sleep(1)"
   ],
   "outputs": [],
   "metadata": {}
  },
  {
   "cell_type": "markdown",
   "source": [
    "### 4. 게시글 정보 가져오기"
   ],
   "metadata": {}
  },
  {
   "cell_type": "code",
   "execution_count": 37,
   "source": [
    "html = driver.page_source\r\n",
    "soup = BeautifulSoup(html, 'html.parser')"
   ],
   "outputs": [],
   "metadata": {}
  },
  {
   "cell_type": "code",
   "execution_count": 38,
   "source": [
    "# 1)본문내용 가져오기\r\n",
    "import unicodedata\r\n",
    "try:\r\n",
    "    content = soup.select_one('div.C4VMK > span').text\r\n",
    "    content = unicodedata.normalize('NFC', content)\r\n",
    "except:\r\n",
    "    content = ' '\r\n",
    "content"
   ],
   "outputs": [
    {
     "output_type": "execute_result",
     "data": {
      "text/plain": [
       "'42년 전통 도민 맛집. 태양을 품은 듯 화끈한 비주얼이다. 포슬포슬한 두부가 푸짐히 들어간 순두부 찌개다. #신해바라기분식 #제주도맛집뜨끈한 국물과 두부 한 숟갈을 떠먹으면 화끈한 매운맛과 뜨거운 열기가 식욕을 자극한다. (신라면보다 조금 매운 정도?)맵기 조절이 가능하기에 취향에 따라 먹을 수 있다. 매운 걸 먹지 못하는 일행이 있다면, 백순두부도 좋다. 더 담백하고 맑은 국물로 두부맛에 집중할 수 있다. 보글보글 끓어나오는 콩비지 느낌의 순두부 찌개와 오징어 젓갈이 기억에 남는 제주도 로컬 맛집이다. 📍 제주 일도1동 1342-4◾순두부찌개 ₩7,000🏷 피웨 부캐 노포 간판 수집가 @nopo__joa🏷 미식가들의 맛집 모음집 @e.a.t.club#순두부찌개 #국밥맛집 #제주맛집 #제주시맛집 #피그웨이브_제주'"
      ]
     },
     "metadata": {},
     "execution_count": 38
    }
   ],
   "metadata": {}
  },
  {
   "cell_type": "code",
   "execution_count": 40,
   "source": [
    "# 2)본문 내용에서 해시태그만 가져오기(정규표현식: '#[^\\s#,\\\\]+')\r\n",
    "import re\r\n",
    "tags = re.findall(r'#[^\\s#,\\\\]+', content)\r\n",
    "tags"
   ],
   "outputs": [
    {
     "output_type": "execute_result",
     "data": {
      "text/plain": [
       "['#신해바라기분식', '#제주도맛집뜨끈한', '#순두부찌개', '#국밥맛집', '#제주맛집', '#제주시맛집', '#피그웨이브_제주']"
      ]
     },
     "metadata": {},
     "execution_count": 40
    }
   ],
   "metadata": {}
  },
  {
   "cell_type": "code",
   "execution_count": 41,
   "source": [
    "# 3)작성일자 정보 가져오기\r\n",
    "date = soup.select_one('time.FH9sR.Nzb55')['datetime'][:10]\r\n",
    "date"
   ],
   "outputs": [
    {
     "output_type": "execute_result",
     "data": {
      "text/plain": [
       "'2021-08-18'"
      ]
     },
     "metadata": {},
     "execution_count": 41
    }
   ],
   "metadata": {}
  },
  {
   "cell_type": "code",
   "execution_count": 42,
   "source": [
    "# 4) 좋아요 수 가져오기: 좋아요 1,296개\r\n",
    "try:\r\n",
    "    like = soup.select_one('div.Nm9Fw').text[4:-1]\r\n",
    "except:\r\n",
    "    like = 0\r\n",
    "like"
   ],
   "outputs": [
    {
     "output_type": "execute_result",
     "data": {
      "text/plain": [
       "'1,247'"
      ]
     },
     "metadata": {},
     "execution_count": 42
    }
   ],
   "metadata": {}
  },
  {
   "cell_type": "code",
   "execution_count": 26,
   "source": [
    "# 5) 위치정보 가져오기\r\n",
    "try:\r\n",
    "    place = soup.select_one('div.M30cS')[0].text\r\n",
    "    place = unicodedata.normalize('NFC', place)\r\n",
    "except:\r\n",
    "    place = ''\r\n",
    "place"
   ],
   "outputs": [
    {
     "output_type": "execute_result",
     "data": {
      "text/plain": [
       "''"
      ]
     },
     "metadata": {},
     "execution_count": 26
    }
   ],
   "metadata": {}
  },
  {
   "cell_type": "code",
   "execution_count": 43,
   "source": [
    "row = [content, tags, date, like, place]\r\n",
    "row"
   ],
   "outputs": [
    {
     "output_type": "execute_result",
     "data": {
      "text/plain": [
       "['42년 전통 도민 맛집. 태양을 품은 듯 화끈한 비주얼이다. 포슬포슬한 두부가 푸짐히 들어간 순두부 찌개다. #신해바라기분식 #제주도맛집뜨끈한 국물과 두부 한 숟갈을 떠먹으면 화끈한 매운맛과 뜨거운 열기가 식욕을 자극한다. (신라면보다 조금 매운 정도?)맵기 조절이 가능하기에 취향에 따라 먹을 수 있다. 매운 걸 먹지 못하는 일행이 있다면, 백순두부도 좋다. 더 담백하고 맑은 국물로 두부맛에 집중할 수 있다. 보글보글 끓어나오는 콩비지 느낌의 순두부 찌개와 오징어 젓갈이 기억에 남는 제주도 로컬 맛집이다. 📍 제주 일도1동 1342-4◾순두부찌개 ₩7,000🏷 피웨 부캐 노포 간판 수집가 @nopo__joa🏷 미식가들의 맛집 모음집 @e.a.t.club#순두부찌개 #국밥맛집 #제주맛집 #제주시맛집 #피그웨이브_제주',\n",
       " ['#신해바라기분식', '#제주도맛집뜨끈한', '#순두부찌개', '#국밥맛집', '#제주맛집', '#제주시맛집', '#피그웨이브_제주'],\n",
       " '2021-08-18',\n",
       " '1,247',\n",
       " '']"
      ]
     },
     "metadata": {},
     "execution_count": 43
    }
   ],
   "metadata": {}
  },
  {
   "cell_type": "markdown",
   "source": [
    "### 5. 다음 게시글로 이동"
   ],
   "metadata": {}
  },
  {
   "cell_type": "code",
   "execution_count": 44,
   "source": [
    "driver.find_element_by_css_selector('a._65Bje.coreSpriteRightPaginationArrow').click()\r\n",
    "time.sleep(2)"
   ],
   "outputs": [],
   "metadata": {}
  },
  {
   "cell_type": "code",
   "execution_count": 45,
   "source": [
    "# 6을 하기 위해 팝업 화면을 없앰(즉, X를 클릭)\r\n",
    "driver.find_element_by_xpath('/html/body/div[6]/div[3]/button').click()\r\n",
    "time.sleep(2)"
   ],
   "outputs": [],
   "metadata": {}
  },
  {
   "cell_type": "markdown",
   "source": [
    "### 6. 여러 개의 게시글 가져오기"
   ],
   "metadata": {}
  },
  {
   "cell_type": "code",
   "execution_count": 69,
   "source": [
    "from tqdm.notebook import tqdm"
   ],
   "outputs": [],
   "metadata": {}
  },
  {
   "cell_type": "code",
   "execution_count": 76,
   "source": [
    "def get_content(driver):\r\n",
    "    html = driver.page_source\r\n",
    "    soup = BeautifulSoup(html, 'html.parser')\r\n",
    "\r\n",
    "    try:\r\n",
    "        content = soup.select_one('div.C4VMK > span').text\r\n",
    "        content = unicodedata.normalize('NFC', content)\r\n",
    "    except:\r\n",
    "        content = ' '\r\n",
    "    \r\n",
    "    tags = re.findall(r'#[^\\s#,\\\\]+', content)\r\n",
    "    date = soup.select_one('time.FH9sR.Nzb55')['datetime'][:10]\r\n",
    "    \r\n",
    "    try:\r\n",
    "        like = soup.select_one('div.Nm9Fw').text[4:-1]\r\n",
    "    except:\r\n",
    "        like = 0\r\n",
    "\r\n",
    "    try:\r\n",
    "        place = soup.select_one('div.M30cS')[0].text\r\n",
    "        place = unicodedata.normalize('NFC', place)\r\n",
    "    except:\r\n",
    "        place = ''\r\n",
    "    return [content, tags, date, like, place]"
   ],
   "outputs": [],
   "metadata": {}
  },
  {
   "cell_type": "markdown",
   "source": [
    "### - 제주도맛집, 제주맛집, 제주도관광, 제주여행"
   ],
   "metadata": {}
  },
  {
   "cell_type": "code",
   "execution_count": 77,
   "source": [
    "keyword = '제주여행'\r\n",
    "search_url = 'https://www.instagram.com/explore/tags/'\r\n",
    "url = f'{search_url}{quote(keyword)}'\r\n",
    "driver.get(url)\r\n",
    "time.sleep(5)\r\n",
    "driver.find_element_by_css_selector('div._9AhH0').click()\r\n",
    "time.sleep(1)"
   ],
   "outputs": [],
   "metadata": {}
  },
  {
   "cell_type": "code",
   "execution_count": 78,
   "source": [
    "#200개 정도가 한계\r\n",
    "results = []\r\n",
    "for _ in tqdm(range(200)):\r\n",
    "    try:\r\n",
    "        row = get_content(driver)\r\n",
    "        results.append(row)\r\n",
    "        driver.find_element_by_css_selector('a._65Bje.coreSpriteRightPaginationArrow').click()\r\n",
    "        time.sleep(2)\r\n",
    "    except:\r\n",
    "        time.sleep(3)\r\n",
    "        driver.find_element_by_css_selector('a._65Bje.coreSpriteRightPaginationArrow').click()\r\n",
    "        time.sleep(2)"
   ],
   "outputs": [
    {
     "output_type": "display_data",
     "data": {
      "text/plain": [
       "  0%|          | 0/200 [00:00<?, ?it/s]"
      ],
      "application/vnd.jupyter.widget-view+json": {
       "version_major": 2,
       "version_minor": 0,
       "model_id": "8facd3f3ce6046dca17443b451be087e"
      }
     },
     "metadata": {}
    }
   ],
   "metadata": {}
  },
  {
   "cell_type": "code",
   "execution_count": 79,
   "source": [
    "df = pd.DataFrame(results, columns=['content','tags', 'date','like','place'])\r\n",
    "df.head()"
   ],
   "outputs": [
    {
     "output_type": "execute_result",
     "data": {
      "text/plain": [
       "                                             content  \\\n",
       "0  .빵수니 빵도리들을 위한 <제주 빵지순례 모음! >맛있고 가볼만한 빵집들을 모아봤어...   \n",
       "1  [1박에 10만원 제주도 풀빌라 대공개!😍]제주도 6시 방향에 있는 '르페도라' 풀...   \n",
       "2      하루종일 파란 날 요즘 내 짝꿍 오코백이랑 .. 🧵🪡🤍🤍🤍 (feat 오트에코백)   \n",
       "3  가로사진이 훨씬 더 어울리는 공간이라 이번 피드는 좀🤔일찍 가면 홀로 명상(Mind...   \n",
       "4                          @uniqcong_official #유니콩💚👖   \n",
       "\n",
       "                                                tags        date   like place  \n",
       "0  [#제주맛집, #제주도맛집, #제주공항근처맛집, #제주시맛집, #애월맛집, #중문맛...  2021-08-19  1,217        \n",
       "1                                          [#동행스타그램]  2021-08-19    305        \n",
       "2                                                 []  2021-08-18  2,540        \n",
       "3                        [#제주신상카페, #월정리카페, #아이엠더그라스]  2021-08-18    920        \n",
       "4                                           [#유니콩💚👖]  2021-08-19  1,306        "
      ],
      "text/html": [
       "<div>\n",
       "<style scoped>\n",
       "    .dataframe tbody tr th:only-of-type {\n",
       "        vertical-align: middle;\n",
       "    }\n",
       "\n",
       "    .dataframe tbody tr th {\n",
       "        vertical-align: top;\n",
       "    }\n",
       "\n",
       "    .dataframe thead th {\n",
       "        text-align: right;\n",
       "    }\n",
       "</style>\n",
       "<table border=\"1\" class=\"dataframe\">\n",
       "  <thead>\n",
       "    <tr style=\"text-align: right;\">\n",
       "      <th></th>\n",
       "      <th>content</th>\n",
       "      <th>tags</th>\n",
       "      <th>date</th>\n",
       "      <th>like</th>\n",
       "      <th>place</th>\n",
       "    </tr>\n",
       "  </thead>\n",
       "  <tbody>\n",
       "    <tr>\n",
       "      <th>0</th>\n",
       "      <td>.빵수니 빵도리들을 위한 &lt;제주 빵지순례 모음! &gt;맛있고 가볼만한 빵집들을 모아봤어...</td>\n",
       "      <td>[#제주맛집, #제주도맛집, #제주공항근처맛집, #제주시맛집, #애월맛집, #중문맛...</td>\n",
       "      <td>2021-08-19</td>\n",
       "      <td>1,217</td>\n",
       "      <td></td>\n",
       "    </tr>\n",
       "    <tr>\n",
       "      <th>1</th>\n",
       "      <td>[1박에 10만원 제주도 풀빌라 대공개!😍]제주도 6시 방향에 있는 '르페도라' 풀...</td>\n",
       "      <td>[#동행스타그램]</td>\n",
       "      <td>2021-08-19</td>\n",
       "      <td>305</td>\n",
       "      <td></td>\n",
       "    </tr>\n",
       "    <tr>\n",
       "      <th>2</th>\n",
       "      <td>하루종일 파란 날 요즘 내 짝꿍 오코백이랑 .. 🧵🪡🤍🤍🤍 (feat 오트에코백)</td>\n",
       "      <td>[]</td>\n",
       "      <td>2021-08-18</td>\n",
       "      <td>2,540</td>\n",
       "      <td></td>\n",
       "    </tr>\n",
       "    <tr>\n",
       "      <th>3</th>\n",
       "      <td>가로사진이 훨씬 더 어울리는 공간이라 이번 피드는 좀🤔일찍 가면 홀로 명상(Mind...</td>\n",
       "      <td>[#제주신상카페, #월정리카페, #아이엠더그라스]</td>\n",
       "      <td>2021-08-18</td>\n",
       "      <td>920</td>\n",
       "      <td></td>\n",
       "    </tr>\n",
       "    <tr>\n",
       "      <th>4</th>\n",
       "      <td>@uniqcong_official #유니콩💚👖</td>\n",
       "      <td>[#유니콩💚👖]</td>\n",
       "      <td>2021-08-19</td>\n",
       "      <td>1,306</td>\n",
       "      <td></td>\n",
       "    </tr>\n",
       "  </tbody>\n",
       "</table>\n",
       "</div>"
      ]
     },
     "metadata": {},
     "execution_count": 79
    }
   ],
   "metadata": {}
  },
  {
   "cell_type": "code",
   "execution_count": 80,
   "source": [
    "df.tail()"
   ],
   "outputs": [
    {
     "output_type": "execute_result",
     "data": {
      "text/plain": [
       "                                               content  \\\n",
       "194  초록초록한 세상에서 즐거운 시간 가득 가졌어요.책 좋아하는 둘째아이는 도서관에서 나...   \n",
       "195  제주 둘째날한담해변을 지나 용머리해안숙소로 돌아오는길에 신풍해안도로근처 카페뷰가 너...   \n",
       "196    첫날 일정 마무리는 역시 고기!👍#제주#제주여행#혼여행#현지인맛집#아라돈사촌#존맛탱👍   \n",
       "197  .미친 하늘과 구름.적당히 날리는 바람에 머리카락과 하늘하늘거리는 원피스.이거 한 ...   \n",
       "198  그냥 인터넷에 나온 밥집 찾아간건데 가게 내부에서 백종원 아저씨의 사진을 보았을 때...   \n",
       "\n",
       "                                                  tags        date  \\\n",
       "194  [#제주돌하르방미술관, #제주아이와가볼만한곳......, #제주여행코스, #제주동쪽...  2021-08-19   \n",
       "195  [#용머리해안, #뷰맛집, #신풍해안도로, #풍차, #메밀꽃, #제주여행, #여행스...  2021-08-19   \n",
       "196          [#제주, #제주여행, #혼여행, #현지인맛집, #아라돈사촌, #존맛탱👍]  2021-08-19   \n",
       "197                                 [#여행은, #사진이지사진작가.]  2021-08-19   \n",
       "198  [#피자하나잘하는집, #맛집이네, #돈까스맛집, #피자맛집, #보스코화덕피자, #제...  2021-08-19   \n",
       "\n",
       "                  like place  \n",
       "194                  1        \n",
       "195                  8        \n",
       "196                  5        \n",
       "197  fafa님 외 16명이 좋아합니        \n",
       "198                 18        "
      ],
      "text/html": [
       "<div>\n",
       "<style scoped>\n",
       "    .dataframe tbody tr th:only-of-type {\n",
       "        vertical-align: middle;\n",
       "    }\n",
       "\n",
       "    .dataframe tbody tr th {\n",
       "        vertical-align: top;\n",
       "    }\n",
       "\n",
       "    .dataframe thead th {\n",
       "        text-align: right;\n",
       "    }\n",
       "</style>\n",
       "<table border=\"1\" class=\"dataframe\">\n",
       "  <thead>\n",
       "    <tr style=\"text-align: right;\">\n",
       "      <th></th>\n",
       "      <th>content</th>\n",
       "      <th>tags</th>\n",
       "      <th>date</th>\n",
       "      <th>like</th>\n",
       "      <th>place</th>\n",
       "    </tr>\n",
       "  </thead>\n",
       "  <tbody>\n",
       "    <tr>\n",
       "      <th>194</th>\n",
       "      <td>초록초록한 세상에서 즐거운 시간 가득 가졌어요.책 좋아하는 둘째아이는 도서관에서 나...</td>\n",
       "      <td>[#제주돌하르방미술관, #제주아이와가볼만한곳......, #제주여행코스, #제주동쪽...</td>\n",
       "      <td>2021-08-19</td>\n",
       "      <td>1</td>\n",
       "      <td></td>\n",
       "    </tr>\n",
       "    <tr>\n",
       "      <th>195</th>\n",
       "      <td>제주 둘째날한담해변을 지나 용머리해안숙소로 돌아오는길에 신풍해안도로근처 카페뷰가 너...</td>\n",
       "      <td>[#용머리해안, #뷰맛집, #신풍해안도로, #풍차, #메밀꽃, #제주여행, #여행스...</td>\n",
       "      <td>2021-08-19</td>\n",
       "      <td>8</td>\n",
       "      <td></td>\n",
       "    </tr>\n",
       "    <tr>\n",
       "      <th>196</th>\n",
       "      <td>첫날 일정 마무리는 역시 고기!👍#제주#제주여행#혼여행#현지인맛집#아라돈사촌#존맛탱👍</td>\n",
       "      <td>[#제주, #제주여행, #혼여행, #현지인맛집, #아라돈사촌, #존맛탱👍]</td>\n",
       "      <td>2021-08-19</td>\n",
       "      <td>5</td>\n",
       "      <td></td>\n",
       "    </tr>\n",
       "    <tr>\n",
       "      <th>197</th>\n",
       "      <td>.미친 하늘과 구름.적당히 날리는 바람에 머리카락과 하늘하늘거리는 원피스.이거 한 ...</td>\n",
       "      <td>[#여행은, #사진이지사진작가.]</td>\n",
       "      <td>2021-08-19</td>\n",
       "      <td>fafa님 외 16명이 좋아합니</td>\n",
       "      <td></td>\n",
       "    </tr>\n",
       "    <tr>\n",
       "      <th>198</th>\n",
       "      <td>그냥 인터넷에 나온 밥집 찾아간건데 가게 내부에서 백종원 아저씨의 사진을 보았을 때...</td>\n",
       "      <td>[#피자하나잘하는집, #맛집이네, #돈까스맛집, #피자맛집, #보스코화덕피자, #제...</td>\n",
       "      <td>2021-08-19</td>\n",
       "      <td>18</td>\n",
       "      <td></td>\n",
       "    </tr>\n",
       "  </tbody>\n",
       "</table>\n",
       "</div>"
      ]
     },
     "metadata": {},
     "execution_count": 80
    }
   ],
   "metadata": {}
  },
  {
   "cell_type": "code",
   "execution_count": 81,
   "source": [
    "df.to_csv('Data/제주여행.csv', index=False)"
   ],
   "outputs": [],
   "metadata": {}
  },
  {
   "cell_type": "code",
   "execution_count": 82,
   "source": [
    "driver.close()"
   ],
   "outputs": [],
   "metadata": {}
  },
  {
   "cell_type": "markdown",
   "source": [
    "- 4가지 CSV 파일의 중복을 제거한 후 통합 저장"
   ],
   "metadata": {}
  }
 ],
 "metadata": {
  "orig_nbformat": 4,
  "language_info": {
   "name": "python",
   "version": "3.8.10",
   "mimetype": "text/x-python",
   "codemirror_mode": {
    "name": "ipython",
    "version": 3
   },
   "pygments_lexer": "ipython3",
   "nbconvert_exporter": "python",
   "file_extension": ".py"
  },
  "kernelspec": {
   "name": "python3",
   "display_name": "Python 3.8.10 64-bit ('base': conda)"
  },
  "interpreter": {
   "hash": "2c5373b56045d27805095073b4fd3831b9681fb378d55d950933c3cade222603"
  }
 },
 "nbformat": 4,
 "nbformat_minor": 2
}