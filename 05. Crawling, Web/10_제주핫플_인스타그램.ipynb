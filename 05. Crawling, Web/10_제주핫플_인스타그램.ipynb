{
 "cells": [
  {
   "cell_type": "markdown",
   "source": [
    "# 제주도 핫플레이스 - 인스타그램 크롤링"
   ],
   "metadata": {}
  },
  {
   "cell_type": "code",
   "execution_count": 3,
   "source": [
    "from selenium import webdriver\r\n",
    "from bs4 import BeautifulSoup\r\n",
    "import time\r\n",
    "import pandas as pd\r\n",
    "from urllib.parse import quote"
   ],
   "outputs": [],
   "metadata": {}
  },
  {
   "cell_type": "code",
   "execution_count": 4,
   "source": [
    "chromedriver = 'C:/Users/imkyu/Downloads/chromedriver.exe'\r\n",
    "driver = webdriver.Chrome(chromedriver)"
   ],
   "outputs": [],
   "metadata": {}
  },
  {
   "cell_type": "markdown",
   "source": [
    "### 1. Instagram 접속하여 로그인"
   ],
   "metadata": {}
  },
  {
   "cell_type": "code",
   "execution_count": 5,
   "source": [
    "insta_url = 'https://www.instagram.com'\r\n",
    "driver.get(insta_url)\r\n",
    "time.sleep(1)"
   ],
   "outputs": [],
   "metadata": {}
  },
  {
   "cell_type": "code",
   "execution_count": 6,
   "source": [
    "with open('password.txt') as f:\r\n",
    "    password = f.read()"
   ],
   "outputs": [],
   "metadata": {}
  },
  {
   "cell_type": "code",
   "execution_count": 7,
   "source": [
    "email = 'llibeauty'\r\n",
    "input_email = driver.find_element_by_css_selector('._2hvTZ.pexuQ.zyHYP')\r\n",
    "input_email.clear()\r\n",
    "input_email.send_keys(email)"
   ],
   "outputs": [],
   "metadata": {}
  },
  {
   "cell_type": "code",
   "execution_count": 8,
   "source": [
    "input_pwd = driver.find_element_by_name('password')\r\n",
    "input_pwd.clear()\r\n",
    "input_pwd.send_keys(password)\r\n",
    "input_pwd.submit()\r\n",
    "time.sleep(1)"
   ],
   "outputs": [],
   "metadata": {}
  },
  {
   "cell_type": "code",
   "execution_count": 9,
   "source": [
    "# 팝업-알림(로그인정보 저장-안함)\r\n",
    "try:\r\n",
    "    driver.find_element_by_css_selector('.sqdOP.yWX7d.y3zKF').click()\r\n",
    "    time.sleep(1)\r\n",
    "except:\r\n",
    "    pass"
   ],
   "outputs": [],
   "metadata": {}
  },
  {
   "cell_type": "code",
   "execution_count": 10,
   "source": [
    "# 팝업 - 알림(나중에 하기)\r\n",
    "try:\r\n",
    "    driver.find_element_by_css_selector('.aOOlW.HoLwm').click()\r\n",
    "    time.sleep(1)\r\n",
    "except:\r\n",
    "    pass"
   ],
   "outputs": [],
   "metadata": {}
  },
  {
   "cell_type": "markdown",
   "source": [
    "### 2. 제주도 맛집 으로 검색"
   ],
   "metadata": {}
  },
  {
   "cell_type": "code",
   "execution_count": 11,
   "source": [
    "keyword = '제주도맛집'\r\n",
    "search_url = 'https://www.instagram.com/explore/tags/'\r\n",
    "url = f'{search_url}{quote(keyword)}'\r\n",
    "url"
   ],
   "outputs": [
    {
     "output_type": "execute_result",
     "data": {
      "text/plain": [
       "'https://www.instagram.com/explore/tags/%EC%A0%9C%EC%A3%BC%EB%8F%84%EB%A7%9B%EC%A7%91'"
      ]
     },
     "metadata": {},
     "execution_count": 11
    }
   ],
   "metadata": {}
  },
  {
   "cell_type": "code",
   "execution_count": 12,
   "source": [
    "driver.get(url)\r\n",
    "time.sleep(5)   #시간 충분히 줘야 함(화면전환될떄까지기달)"
   ],
   "outputs": [],
   "metadata": {}
  },
  {
   "cell_type": "markdown",
   "source": [
    "### 3. 첫번째 게시글 열기"
   ],
   "metadata": {}
  },
  {
   "cell_type": "code",
   "execution_count": 13,
   "source": [
    "driver.find_element_by_css_selector('div._9AhH0').click()\r\n",
    "time.sleep(1)"
   ],
   "outputs": [],
   "metadata": {}
  },
  {
   "cell_type": "markdown",
   "source": [
    "### 4. 게시글 정보 가져오기"
   ],
   "metadata": {}
  },
  {
   "cell_type": "code",
   "execution_count": 14,
   "source": [
    "html = driver.page_source\r\n",
    "soup = BeautifulSoup(html, 'html.parser')"
   ],
   "outputs": [],
   "metadata": {}
  },
  {
   "cell_type": "code",
   "execution_count": 15,
   "source": [
    "# 1)본문내용 가져오기\r\n",
    "import unicodedata\r\n",
    "try:\r\n",
    "    content = soup.select_one('div.C4VMK > span').text\r\n",
    "    content = unicodedata.normalize('NFC', content)\r\n",
    "except:\r\n",
    "    content = ' '\r\n",
    "content"
   ],
   "outputs": [
    {
     "output_type": "execute_result",
     "data": {
      "text/plain": [
       "'협찬환상적인 바다뷰를 지닌 숙성근고기 흑돼지맛집 💘💧064 - 711 - 3733💧제주시 애월읍 애월해안로 907💧매일 11:00 ~ 23:00(연중무휴)💧브레이크타임 NO💧런치세트 11:00 ~ 14:00#애월리식당#애월맛집 #애월흑돼지 #제주애월맛집 #제주도맛집#제주맛집#애월흑돼지맛집 #애월흑돼지 #제주흑돼지 #제주도흑돼지 #협재맛집 #제주공항근처맛집 #애월해안도로맛집#한림맛집 #애월읍맛집'"
      ]
     },
     "metadata": {},
     "execution_count": 15
    }
   ],
   "metadata": {}
  },
  {
   "cell_type": "code",
   "execution_count": 16,
   "source": [
    "# 2)본문 내용에서 해시태그만 가져오기(정규표현식: '#[^\\s#,\\\\]+')\r\n",
    "import re\r\n",
    "tags = re.findall(r'#[^\\s#,\\\\]+', content)\r\n",
    "tags"
   ],
   "outputs": [
    {
     "output_type": "execute_result",
     "data": {
      "text/plain": [
       "['#애월리식당',\n",
       " '#애월맛집',\n",
       " '#애월흑돼지',\n",
       " '#제주애월맛집',\n",
       " '#제주도맛집',\n",
       " '#제주맛집',\n",
       " '#애월흑돼지맛집',\n",
       " '#애월흑돼지',\n",
       " '#제주흑돼지',\n",
       " '#제주도흑돼지',\n",
       " '#협재맛집',\n",
       " '#제주공항근처맛집',\n",
       " '#애월해안도로맛집',\n",
       " '#한림맛집',\n",
       " '#애월읍맛집']"
      ]
     },
     "metadata": {},
     "execution_count": 16
    }
   ],
   "metadata": {}
  },
  {
   "cell_type": "code",
   "execution_count": 17,
   "source": [
    "# 3)작성일자 정보 가져오기\r\n",
    "date = soup.select_one('time.FH9sR.Nzb55')['datetime'][:10]\r\n",
    "date"
   ],
   "outputs": [
    {
     "output_type": "execute_result",
     "data": {
      "text/plain": [
       "'2021-08-17'"
      ]
     },
     "metadata": {},
     "execution_count": 17
    }
   ],
   "metadata": {}
  },
  {
   "cell_type": "code",
   "execution_count": 18,
   "source": [
    "# 4) 좋아요 수 가져오기: 좋아요 1,296개\r\n",
    "try:\r\n",
    "    like = soup.select_one('div.Nm9Fw').text[4:-1]\r\n",
    "except:\r\n",
    "    like = 0\r\n",
    "like"
   ],
   "outputs": [
    {
     "output_type": "execute_result",
     "data": {
      "text/plain": [
       "0"
      ]
     },
     "metadata": {},
     "execution_count": 18
    }
   ],
   "metadata": {}
  },
  {
   "cell_type": "code",
   "execution_count": 19,
   "source": [
    "# 5) 위치정보 가져오기\r\n",
    "try:\r\n",
    "    place = soup.select_one('div.M30cS')[0].text\r\n",
    "    place = unicodedata.normalize('NFC', place)\r\n",
    "except:\r\n",
    "    place = ''\r\n",
    "place"
   ],
   "outputs": [
    {
     "output_type": "execute_result",
     "data": {
      "text/plain": [
       "''"
      ]
     },
     "metadata": {},
     "execution_count": 19
    }
   ],
   "metadata": {}
  },
  {
   "cell_type": "code",
   "execution_count": 20,
   "source": [
    "row = [content, date, like, place, tags]\r\n",
    "row"
   ],
   "outputs": [
    {
     "output_type": "execute_result",
     "data": {
      "text/plain": [
       "['협찬환상적인 바다뷰를 지닌 숙성근고기 흑돼지맛집 💘💧064 - 711 - 3733💧제주시 애월읍 애월해안로 907💧매일 11:00 ~ 23:00(연중무휴)💧브레이크타임 NO💧런치세트 11:00 ~ 14:00#애월리식당#애월맛집 #애월흑돼지 #제주애월맛집 #제주도맛집#제주맛집#애월흑돼지맛집 #애월흑돼지 #제주흑돼지 #제주도흑돼지 #협재맛집 #제주공항근처맛집 #애월해안도로맛집#한림맛집 #애월읍맛집',\n",
       " '2021-08-17',\n",
       " 0,\n",
       " '',\n",
       " ['#애월리식당',\n",
       "  '#애월맛집',\n",
       "  '#애월흑돼지',\n",
       "  '#제주애월맛집',\n",
       "  '#제주도맛집',\n",
       "  '#제주맛집',\n",
       "  '#애월흑돼지맛집',\n",
       "  '#애월흑돼지',\n",
       "  '#제주흑돼지',\n",
       "  '#제주도흑돼지',\n",
       "  '#협재맛집',\n",
       "  '#제주공항근처맛집',\n",
       "  '#애월해안도로맛집',\n",
       "  '#한림맛집',\n",
       "  '#애월읍맛집']]"
      ]
     },
     "metadata": {},
     "execution_count": 20
    }
   ],
   "metadata": {}
  },
  {
   "cell_type": "markdown",
   "source": [
    "### 5. 다음 게시글로 이동"
   ],
   "metadata": {}
  },
  {
   "cell_type": "code",
   "execution_count": 21,
   "source": [
    "driver.find_element_by_css_selector('a._65Bje.coreSpriteRightPaginationArrow').click()\r\n",
    "time.sleep(2)"
   ],
   "outputs": [],
   "metadata": {}
  },
  {
   "cell_type": "code",
   "execution_count": 22,
   "source": [
    "# 6을 하기 위해 팝업 화면을 없앰(즉, X를 클릭)\r\n",
    "driver.find_element_by_xpath('/html/body/div[6]/div[3]/button').click()\r\n",
    "time.sleep(2)"
   ],
   "outputs": [],
   "metadata": {}
  },
  {
   "cell_type": "markdown",
   "source": [
    "### 6. 여러 개의 게시글 가져오기"
   ],
   "metadata": {}
  },
  {
   "cell_type": "code",
   "execution_count": 23,
   "source": [
    "from tqdm.notebook import tqdm"
   ],
   "outputs": [],
   "metadata": {}
  },
  {
   "cell_type": "code",
   "execution_count": 24,
   "source": [
    "def get_content(driver):\r\n",
    "    html = driver.page_source\r\n",
    "    soup = BeautifulSoup(html, 'html.parser')\r\n",
    "\r\n",
    "    try:\r\n",
    "        content = soup.select_one('div.C4VMK > span').text\r\n",
    "        content = unicodedata.normalize('NFC', content)\r\n",
    "    except:\r\n",
    "        content = ' '\r\n",
    "    \r\n",
    "    tags = re.findall(r'#[^\\s#,\\\\]+', content)\r\n",
    "    date = soup.select_one('time.FH9sR.Nzb55')['datetime'][:10]\r\n",
    "    \r\n",
    "    try:\r\n",
    "        like = soup.select_one('div.Nm9Fw').text[4:-1]\r\n",
    "    except:\r\n",
    "        like = 0\r\n",
    "\r\n",
    "    try:\r\n",
    "        place = soup.select_one('div.M30cS')[0].text\r\n",
    "        place = unicodedata.normalize('NFC', place)\r\n",
    "    except:\r\n",
    "        place = ''\r\n",
    "    return [content, tags, date, like, place]"
   ],
   "outputs": [],
   "metadata": {}
  },
  {
   "cell_type": "markdown",
   "source": [
    "### - 제주도맛집, 제주맛집, 제주도관광, 제주여행"
   ],
   "metadata": {}
  },
  {
   "cell_type": "code",
   "execution_count": 25,
   "source": [
    "keyword = '제주도맛집'\r\n",
    "search_url = 'https://www.instagram.com/explore/tags/'\r\n",
    "url = f'{search_url}{quote(keyword)}'\r\n",
    "driver.get(url)\r\n",
    "time.sleep(5)\r\n",
    "driver.find_element_by_css_selector('div._9AhH0').click()\r\n",
    "time.sleep(1)"
   ],
   "outputs": [],
   "metadata": {}
  },
  {
   "cell_type": "code",
   "execution_count": 26,
   "source": [
    "#200개 정도가 한계\r\n",
    "results = []\r\n",
    "for _ in tqdm(range(200)):\r\n",
    "    try:\r\n",
    "        row = get_content(driver)\r\n",
    "        results.append(row)\r\n",
    "        driver.find_element_by_css_selector('a._65Bje.coreSpriteRightPaginationArrow').click()\r\n",
    "        time.sleep(2)\r\n",
    "    except:\r\n",
    "        time.sleep(3)\r\n",
    "        driver.find_element_by_css_selector('a._65Bje.coreSpriteRightPaginationArrow').click()\r\n",
    "        time.sleep(2)"
   ],
   "outputs": [
    {
     "output_type": "display_data",
     "data": {
      "text/plain": [
       "  0%|          | 0/200 [00:00<?, ?it/s]"
      ],
      "application/vnd.jupyter.widget-view+json": {
       "version_major": 2,
       "version_minor": 0,
       "model_id": "6b68be4ba4154364afaf671c3143cfdc"
      }
     },
     "metadata": {}
    }
   ],
   "metadata": {}
  },
  {
   "cell_type": "code",
   "execution_count": 27,
   "source": [
    "df = pd.DataFrame(results, columns=['content','tags', 'date','like','place'])\r\n",
    "df.head()"
   ],
   "outputs": [
    {
     "output_type": "execute_result",
     "data": {
      "text/plain": [
       "                                             content  \\\n",
       "0  협찬환상적인 바다뷰를 지닌 숙성근고기 흑돼지맛집 💘💧064 - 711 - 3733💧...   \n",
       "1  -배거픔에 잠안오는 야심한밤에 올려보는제주 오마카세정보🤪다녀온곳은 #제주하찌 였어요...   \n",
       "2  42년 전통 도민 맛집. 태양을 품은 듯 화끈한 비주얼이다. 포슬포슬한 두부가 푸짐...   \n",
       "3  <광고>#제주분식 https://jejubunsig.modoo.at/ 📌제주시 귀아...   \n",
       "4  협찬제주애월맛집 \"랍스터빈\"주소 : 제주시 애월읍 애월해안로 752전화 : 064-...   \n",
       "\n",
       "                                                tags        date   like place  \n",
       "0  [#애월리식당, #애월맛집, #애월흑돼지, #제주애월맛집, #제주도맛집, #제주맛집...  2021-08-17      0        \n",
       "1  [#제주하찌, #배고픈밤, #참자, #제주오마카세, #제주도오마카세, #서귀포맛집,...  2021-08-18    386        \n",
       "2  [#신해바라기분식, #제주도맛집뜨끈한, #순두부찌개, #국밥맛집, #제주맛집, #제...  2021-08-18  1,086        \n",
       "3  [#제주분식, #제주분식⠀간편하게, #모당모당, #돔베라면돔베김밥, #제주맛집, #...  2021-08-16      0        \n",
       "4  [#애월맛집, #애월카페, #애월읍맛집, #제주애월맛집, #제주도맛집, #제주맛집,...  2021-08-19      0        "
      ],
      "text/html": [
       "<div>\n",
       "<style scoped>\n",
       "    .dataframe tbody tr th:only-of-type {\n",
       "        vertical-align: middle;\n",
       "    }\n",
       "\n",
       "    .dataframe tbody tr th {\n",
       "        vertical-align: top;\n",
       "    }\n",
       "\n",
       "    .dataframe thead th {\n",
       "        text-align: right;\n",
       "    }\n",
       "</style>\n",
       "<table border=\"1\" class=\"dataframe\">\n",
       "  <thead>\n",
       "    <tr style=\"text-align: right;\">\n",
       "      <th></th>\n",
       "      <th>content</th>\n",
       "      <th>tags</th>\n",
       "      <th>date</th>\n",
       "      <th>like</th>\n",
       "      <th>place</th>\n",
       "    </tr>\n",
       "  </thead>\n",
       "  <tbody>\n",
       "    <tr>\n",
       "      <th>0</th>\n",
       "      <td>협찬환상적인 바다뷰를 지닌 숙성근고기 흑돼지맛집 💘💧064 - 711 - 3733💧...</td>\n",
       "      <td>[#애월리식당, #애월맛집, #애월흑돼지, #제주애월맛집, #제주도맛집, #제주맛집...</td>\n",
       "      <td>2021-08-17</td>\n",
       "      <td>0</td>\n",
       "      <td></td>\n",
       "    </tr>\n",
       "    <tr>\n",
       "      <th>1</th>\n",
       "      <td>-배거픔에 잠안오는 야심한밤에 올려보는제주 오마카세정보🤪다녀온곳은 #제주하찌 였어요...</td>\n",
       "      <td>[#제주하찌, #배고픈밤, #참자, #제주오마카세, #제주도오마카세, #서귀포맛집,...</td>\n",
       "      <td>2021-08-18</td>\n",
       "      <td>386</td>\n",
       "      <td></td>\n",
       "    </tr>\n",
       "    <tr>\n",
       "      <th>2</th>\n",
       "      <td>42년 전통 도민 맛집. 태양을 품은 듯 화끈한 비주얼이다. 포슬포슬한 두부가 푸짐...</td>\n",
       "      <td>[#신해바라기분식, #제주도맛집뜨끈한, #순두부찌개, #국밥맛집, #제주맛집, #제...</td>\n",
       "      <td>2021-08-18</td>\n",
       "      <td>1,086</td>\n",
       "      <td></td>\n",
       "    </tr>\n",
       "    <tr>\n",
       "      <th>3</th>\n",
       "      <td>&lt;광고&gt;#제주분식 https://jejubunsig.modoo.at/ 📌제주시 귀아...</td>\n",
       "      <td>[#제주분식, #제주분식⠀간편하게, #모당모당, #돔베라면돔베김밥, #제주맛집, #...</td>\n",
       "      <td>2021-08-16</td>\n",
       "      <td>0</td>\n",
       "      <td></td>\n",
       "    </tr>\n",
       "    <tr>\n",
       "      <th>4</th>\n",
       "      <td>협찬제주애월맛집 \"랍스터빈\"주소 : 제주시 애월읍 애월해안로 752전화 : 064-...</td>\n",
       "      <td>[#애월맛집, #애월카페, #애월읍맛집, #제주애월맛집, #제주도맛집, #제주맛집,...</td>\n",
       "      <td>2021-08-19</td>\n",
       "      <td>0</td>\n",
       "      <td></td>\n",
       "    </tr>\n",
       "  </tbody>\n",
       "</table>\n",
       "</div>"
      ]
     },
     "metadata": {},
     "execution_count": 27
    }
   ],
   "metadata": {}
  },
  {
   "cell_type": "code",
   "execution_count": 30,
   "source": [
    "df.tail()"
   ],
   "outputs": [
    {
     "output_type": "execute_result",
     "data": {
      "text/plain": [
       "                                               content  \\\n",
       "174                                              날씨 굳😎   \n",
       "175  음악이 빵빵~ 제주펍 픽미 좋습니다#픽미펍클럽#제주도클럽#제주클럽#월정리클럽#제주도...   \n",
       "176  #통발오늘 제가 소개해드릴 맛집은 일식 전문점입니다앞에 바다도 훤히 다 보이고 분위...   \n",
       "177  (광고)정상 영업합니다제주 유일 해산물 모듬장 ♥애월제주다예약하고 꼭 드셔보세요~잊...   \n",
       "178  가족끼리 또 오자고해서 왔는데 역시나 마음에 드네요. 갈치구이에 고소한 맛 잊지못하...   \n",
       "\n",
       "                                                  tags        date  \\\n",
       "174                                                 []  2021-08-19   \n",
       "175  [#픽미펍클럽, #제주도클럽, #제주클럽, #월정리클럽, #제주도술집, #월정리술집...  2021-08-19   \n",
       "176                                            [#통발오늘]  2021-08-19   \n",
       "177  [#애월맛집, #제주공항맛집, #제주공항근처맛집, #애월해안도로맛집, #협재맛집, ...  2021-08-19   \n",
       "178  [#서귀포맛집, #색달식당중문본점, #서귀포통갈치조림, #제주맛집, #중문맛집, #...  2021-08-19   \n",
       "\n",
       "            like place  \n",
       "174           35        \n",
       "175            1        \n",
       "176  저 좋아요를 눌러보세        \n",
       "177          367        \n",
       "178  저 좋아요를 눌러보세        "
      ],
      "text/html": [
       "<div>\n",
       "<style scoped>\n",
       "    .dataframe tbody tr th:only-of-type {\n",
       "        vertical-align: middle;\n",
       "    }\n",
       "\n",
       "    .dataframe tbody tr th {\n",
       "        vertical-align: top;\n",
       "    }\n",
       "\n",
       "    .dataframe thead th {\n",
       "        text-align: right;\n",
       "    }\n",
       "</style>\n",
       "<table border=\"1\" class=\"dataframe\">\n",
       "  <thead>\n",
       "    <tr style=\"text-align: right;\">\n",
       "      <th></th>\n",
       "      <th>content</th>\n",
       "      <th>tags</th>\n",
       "      <th>date</th>\n",
       "      <th>like</th>\n",
       "      <th>place</th>\n",
       "    </tr>\n",
       "  </thead>\n",
       "  <tbody>\n",
       "    <tr>\n",
       "      <th>174</th>\n",
       "      <td>날씨 굳😎</td>\n",
       "      <td>[]</td>\n",
       "      <td>2021-08-19</td>\n",
       "      <td>35</td>\n",
       "      <td></td>\n",
       "    </tr>\n",
       "    <tr>\n",
       "      <th>175</th>\n",
       "      <td>음악이 빵빵~ 제주펍 픽미 좋습니다#픽미펍클럽#제주도클럽#제주클럽#월정리클럽#제주도...</td>\n",
       "      <td>[#픽미펍클럽, #제주도클럽, #제주클럽, #월정리클럽, #제주도술집, #월정리술집...</td>\n",
       "      <td>2021-08-19</td>\n",
       "      <td>1</td>\n",
       "      <td></td>\n",
       "    </tr>\n",
       "    <tr>\n",
       "      <th>176</th>\n",
       "      <td>#통발오늘 제가 소개해드릴 맛집은 일식 전문점입니다앞에 바다도 훤히 다 보이고 분위...</td>\n",
       "      <td>[#통발오늘]</td>\n",
       "      <td>2021-08-19</td>\n",
       "      <td>저 좋아요를 눌러보세</td>\n",
       "      <td></td>\n",
       "    </tr>\n",
       "    <tr>\n",
       "      <th>177</th>\n",
       "      <td>(광고)정상 영업합니다제주 유일 해산물 모듬장 ♥애월제주다예약하고 꼭 드셔보세요~잊...</td>\n",
       "      <td>[#애월맛집, #제주공항맛집, #제주공항근처맛집, #애월해안도로맛집, #협재맛집, ...</td>\n",
       "      <td>2021-08-19</td>\n",
       "      <td>367</td>\n",
       "      <td></td>\n",
       "    </tr>\n",
       "    <tr>\n",
       "      <th>178</th>\n",
       "      <td>가족끼리 또 오자고해서 왔는데 역시나 마음에 드네요. 갈치구이에 고소한 맛 잊지못하...</td>\n",
       "      <td>[#서귀포맛집, #색달식당중문본점, #서귀포통갈치조림, #제주맛집, #중문맛집, #...</td>\n",
       "      <td>2021-08-19</td>\n",
       "      <td>저 좋아요를 눌러보세</td>\n",
       "      <td></td>\n",
       "    </tr>\n",
       "  </tbody>\n",
       "</table>\n",
       "</div>"
      ]
     },
     "metadata": {},
     "execution_count": 30
    }
   ],
   "metadata": {}
  },
  {
   "cell_type": "code",
   "execution_count": 28,
   "source": [
    "df.to_csv('Data/제주맛집.csv', index=False)"
   ],
   "outputs": [],
   "metadata": {}
  },
  {
   "cell_type": "code",
   "execution_count": 29,
   "source": [
    "driver.close()"
   ],
   "outputs": [],
   "metadata": {}
  },
  {
   "cell_type": "markdown",
   "source": [
    "- 4가지 CSV 파일의 중복을 제거한 후 통합 저장"
   ],
   "metadata": {}
  },
  {
   "cell_type": "code",
   "execution_count": 31,
   "source": [
    "for keyword in ['제주도맛집', '제주맛집', '제주도관광', '제주여행']:\r\n",
    "    df = pd.read_csv(f'data/{keyword}.csv')\r\n",
    "    print(df.head())"
   ],
   "outputs": [
    {
     "output_type": "stream",
     "name": "stdout",
     "text": [
      "                                             content  \\\n",
      "0  .#연동 #모니카옛날통닭간판부터 맛집포스 작렬하는 찐맛집이젠 인생치킨이라고 말하기도...   \n",
      "1  <광고>섭지코지에서 한끼 맛있게 드시고 싶다면...특히 점심메뉴로 강력추천드리고요 ...   \n",
      "2  .< 제주해물라면 맛집모음! > 일단저장@ 해물 아낌없이 주는 해물라면 맛집!바다뷰...   \n",
      "3  협찬제주애월맛집 \"랍스터빈\"주소 : 제주시 애월읍 애월해안로 752전화 : 064-...   \n",
      "4  .한림 #문도지오름방목된 조랑말과 교감까지 할 수이따규~일몰 시간에 맞춰서 가면 멋...   \n",
      "\n",
      "                                                tags        date   like place  \n",
      "0  ['#연동', '#모니카옛날통닭간판부터', '#제주맛집', '#제주도맛집', '#제...  2021-08-19  1,113   NaN  \n",
      "1  ['#섭지코지한끼🍱오픈', '#섭지코지맛집', '#섭지코지', '#섭지코지카페', ...  2021-08-18      0   NaN  \n",
      "2  ['#제주맛집', '#제주도맛집', '#제주공항근처맛집', '#제주시맛집', '#애...  2021-08-18  1,008   NaN  \n",
      "3  ['#애월맛집', '#애월카페', '#애월읍맛집', '#제주애월맛집', '#제주도맛...  2021-08-18      0   NaN  \n",
      "4  ['#문도지오름방목된', '#제주맛집', '#제주도맛집', '#제주공항근처맛집', ...  2021-08-17  1,304   NaN  \n",
      "                                             content  \\\n",
      "0  협찬환상적인 바다뷰를 지닌 숙성근고기 흑돼지맛집 💘💧064 - 711 - 3733💧...   \n",
      "1  -배거픔에 잠안오는 야심한밤에 올려보는제주 오마카세정보🤪다녀온곳은 #제주하찌 였어요...   \n",
      "2  42년 전통 도민 맛집. 태양을 품은 듯 화끈한 비주얼이다. 포슬포슬한 두부가 푸짐...   \n",
      "3  <광고>#제주분식 https://jejubunsig.modoo.at/ 📌제주시 귀아...   \n",
      "4  협찬제주애월맛집 \"랍스터빈\"주소 : 제주시 애월읍 애월해안로 752전화 : 064-...   \n",
      "\n",
      "                                                tags        date   like  place  \n",
      "0  ['#애월리식당', '#애월맛집', '#애월흑돼지', '#제주애월맛집', '#제주도...  2021-08-17      0    NaN  \n",
      "1  ['#제주하찌', '#배고픈밤', '#참자', '#제주오마카세', '#제주도오마카세...  2021-08-18    386    NaN  \n",
      "2  ['#신해바라기분식', '#제주도맛집뜨끈한', '#순두부찌개', '#국밥맛집', '...  2021-08-18  1,086    NaN  \n",
      "3  ['#제주분식', '#제주분식⠀간편하게', '#모당모당', '#돔베라면돔베김밥', ...  2021-08-16      0    NaN  \n",
      "4  ['#애월맛집', '#애월카페', '#애월읍맛집', '#제주애월맛집', '#제주도맛...  2021-08-19      0    NaN  \n",
      "                                             content  \\\n",
      "0  #제주#제주특별시#제주도#제주도관광#성산읍#백패킹#섬패킹#등산#산스타그램🌳#제주백패...   \n",
      "1  #the3space #가족스냅.우리가족의 찐 행복💕.HM/Dress @jina_n_...   \n",
      "2                       행복은 멀지 않은 곳에 있다며남양주-제주 700km   \n",
      "3  💛💛💛10월의 제주도는 억새의 계절 ! 🌾사람도 없구 너무 한적하구 좋았던곳이였어요...   \n",
      "4  #협찬⠀바다 위에서 느끼는 제주의 자연지난번 쇠소깍에 왔을 때는 현장 발권해서 엄청...   \n",
      "\n",
      "                                                tags        date   like  \\\n",
      "0  ['#제주', '#제주특별시', '#제주도', '#제주도관광', '#성산읍', '#...  2020-07-24    565   \n",
      "1  ['#the3space', '#가족스냅.우리가족의', '#제주스냅', '#제주도스냅...  2021-03-03    255   \n",
      "2                                                 []  2021-05-19    293   \n",
      "3                                     ['#빛나투어_제주✈️']  2020-10-10    619   \n",
      "4  ['#협찬⠀바다', '#서귀포in정', '#서귀포인정', '#서귀포몰', '#제주도...  2021-06-11  1,146   \n",
      "\n",
      "             place  \n",
      "0              NaN  \n",
      "1              제주도  \n",
      "2             사계바다  \n",
      "3  제주도 Jeju Island  \n",
      "4              NaN  \n",
      "                                             content  \\\n",
      "0  #난산리다방 #가오픈마지막주. '이번주가 마지막 입니다.'. 제가 운영하는 곳에 구...   \n",
      "1  _오늘의 블루보틀✨오픈시간 아주 조금 지나서 도착하니바로 입장하고 여유로움 :)블루...   \n",
      "2  #청춘나길 📢 스냅 촬영 안내 및 가격 공지🎁상품안내: 1시간 2시간 4시간 (그 ...   \n",
      "3  ▪️배 안나온다고 체중이 늘지 않는다고쓸데없이 걱정했던 지난날을 반성하며 ㅋㅋ출산이...   \n",
      "4  42년 전통 도민 맛집. 태양을 품은 듯 화끈한 비주얼이다. 포슬포슬한 두부가 푸짐...   \n",
      "\n",
      "                                                tags        date  \\\n",
      "0                 ['#난산리다방', '#가오픈마지막주.', '#르꼬르동블루']  2021-08-19   \n",
      "1                                                 []  2021-08-18   \n",
      "2                                          ['#청춘나길']  2021-08-17   \n",
      "3  ['#제주여행', '#태교여행', '#법환바다안정기시절..', '#임신10개월', ...  2021-08-19   \n",
      "4  ['#신해바라기분식', '#제주도맛집뜨끈한', '#순두부찌개', '#국밥맛집', '...  2021-08-18   \n",
      "\n",
      "                   like              place  \n",
      "0                   471              난산리다방  \n",
      "1                 2,148            블루보틀 제주  \n",
      "2                   670  환상의 섬 Jeju Island  \n",
      "3  ela___님 외 521명이 좋아합니               법환바다  \n",
      "4                 1,079                제주도  \n"
     ]
    }
   ],
   "metadata": {}
  },
  {
   "cell_type": "code",
   "execution_count": null,
   "source": [],
   "outputs": [],
   "metadata": {}
  }
 ],
 "metadata": {
  "orig_nbformat": 4,
  "language_info": {
   "name": "python",
   "version": "3.8.10",
   "mimetype": "text/x-python",
   "codemirror_mode": {
    "name": "ipython",
    "version": 3
   },
   "pygments_lexer": "ipython3",
   "nbconvert_exporter": "python",
   "file_extension": ".py"
  },
  "kernelspec": {
   "name": "python3",
   "display_name": "Python 3.8.10 64-bit ('base': conda)"
  },
  "interpreter": {
   "hash": "2c5373b56045d27805095073b4fd3831b9681fb378d55d950933c3cade222603"
  }
 },
 "nbformat": 4,
 "nbformat_minor": 2
}