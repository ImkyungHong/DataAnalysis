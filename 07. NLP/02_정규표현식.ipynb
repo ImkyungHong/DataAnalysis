{
  "nbformat": 4,
  "nbformat_minor": 0,
  "metadata": {
    "colab": {
      "name": "02_정규표현식.ipynb",
      "provenance": [],
      "collapsed_sections": []
    },
    "kernelspec": {
      "name": "python3",
      "display_name": "Python 3"
    },
    "language_info": {
      "name": "python"
    }
  },
  "cells": [
    {
      "cell_type": "markdown",
      "metadata": {
        "id": "alM3N64Ictvw"
      },
      "source": [
        "# 정규표현식 (Regular Expression)"
      ]
    },
    {
      "cell_type": "code",
      "metadata": {
        "id": "rcu1SGjkeRfi"
      },
      "source": [
        "import re"
      ],
      "execution_count": 8,
      "outputs": []
    },
    {
      "cell_type": "markdown",
      "metadata": {
        "id": "e3WN7kS-exWE"
      },
      "source": [
        "## 1. 정규표현식 실습"
      ]
    },
    {
      "cell_type": "markdown",
      "metadata": {
        "id": "ifs0DsygfEOl"
      },
      "source": [
        "### 기호"
      ]
    },
    {
      "cell_type": "markdown",
      "metadata": {
        "id": "jXSwB8rUfGmw"
      },
      "source": [
        "- . 기호 : 한 개의 임의의 문자(줄바꿈 문자인 \\n는 제외)"
      ]
    },
    {
      "cell_type": "code",
      "metadata": {
        "id": "ZJ2yI0hVesV5"
      },
      "source": [
        "re.search('a.c', 'kkk')"
      ],
      "execution_count": 9,
      "outputs": []
    },
    {
      "cell_type": "code",
      "metadata": {
        "colab": {
          "base_uri": "https://localhost:8080/"
        },
        "id": "7Y4mwfble-2T",
        "outputId": "322ebb0d-357a-46a7-acee-f300696d43a8"
      },
      "source": [
        "re.search('a.c', 'abc')"
      ],
      "execution_count": 10,
      "outputs": [
        {
          "output_type": "execute_result",
          "data": {
            "text/plain": [
              "<re.Match object; span=(0, 3), match='abc'>"
            ]
          },
          "metadata": {},
          "execution_count": 10
        }
      ]
    },
    {
      "cell_type": "markdown",
      "metadata": {
        "id": "9CqijcI1fT0p"
      },
      "source": [
        "- ? 기호 : 앞의 문자가 존재할 수도 있고, 존재하지 않을 수도 있습니다. (문자가 0개 또는 1개)"
      ]
    },
    {
      "cell_type": "code",
      "metadata": {
        "id": "UZv4A0cXfKx0"
      },
      "source": [
        "r = re.compile('ab?c')\n",
        "r.search('abbc')"
      ],
      "execution_count": 11,
      "outputs": []
    },
    {
      "cell_type": "code",
      "metadata": {
        "colab": {
          "base_uri": "https://localhost:8080/"
        },
        "id": "BF1y99N4fn7U",
        "outputId": "8a804344-966f-422e-ed0a-2f06981c74fe"
      },
      "source": [
        "r.search('abc')"
      ],
      "execution_count": 12,
      "outputs": [
        {
          "output_type": "execute_result",
          "data": {
            "text/plain": [
              "<re.Match object; span=(0, 3), match='abc'>"
            ]
          },
          "metadata": {},
          "execution_count": 12
        }
      ]
    },
    {
      "cell_type": "code",
      "metadata": {
        "colab": {
          "base_uri": "https://localhost:8080/"
        },
        "id": "bZV8emQzfr3R",
        "outputId": "50bb8b53-9e2a-457b-c202-39fcbe5dcf20"
      },
      "source": [
        "r.search('ac')"
      ],
      "execution_count": 13,
      "outputs": [
        {
          "output_type": "execute_result",
          "data": {
            "text/plain": [
              "<re.Match object; span=(0, 2), match='ac'>"
            ]
          },
          "metadata": {},
          "execution_count": 13
        }
      ]
    },
    {
      "cell_type": "markdown",
      "metadata": {
        "id": "_dKl0SE-yASR"
      },
      "source": [
        "- +기호: 앞의 문자가 최소 1개 이상"
      ]
    },
    {
      "cell_type": "code",
      "metadata": {
        "id": "YTebs7A-x6Bn"
      },
      "source": [
        "r = re.compile('ab+c')\n",
        "r.search('ac')"
      ],
      "execution_count": 15,
      "outputs": []
    },
    {
      "cell_type": "code",
      "metadata": {
        "colab": {
          "base_uri": "https://localhost:8080/"
        },
        "id": "EfT_wXaCyHcP",
        "outputId": "88cd3828-92f8-4c5a-d47d-890d7853481c"
      },
      "source": [
        "r.search('abbbbbc')"
      ],
      "execution_count": 16,
      "outputs": [
        {
          "output_type": "execute_result",
          "data": {
            "text/plain": [
              "<re.Match object; span=(0, 7), match='abbbbbc'>"
            ]
          },
          "metadata": {},
          "execution_count": 16
        }
      ]
    },
    {
      "cell_type": "markdown",
      "metadata": {
        "id": "sbU-fz32yNIH"
      },
      "source": [
        "- ^기호: 시작되는 글자를 지정"
      ]
    },
    {
      "cell_type": "code",
      "metadata": {
        "id": "5L7fn1FdyLqu"
      },
      "source": [
        "re.search('^a', 'bbc')"
      ],
      "execution_count": 17,
      "outputs": []
    },
    {
      "cell_type": "code",
      "metadata": {
        "colab": {
          "base_uri": "https://localhost:8080/"
        },
        "id": "_66wix12yQ5g",
        "outputId": "2b902379-06f9-4741-e68e-5dcb53326ec0"
      },
      "source": [
        "re.search('^a', 'ab')"
      ],
      "execution_count": 18,
      "outputs": [
        {
          "output_type": "execute_result",
          "data": {
            "text/plain": [
              "<re.Match object; span=(0, 1), match='a'>"
            ]
          },
          "metadata": {},
          "execution_count": 18
        }
      ]
    },
    {
      "cell_type": "markdown",
      "metadata": {
        "id": "L9XKBTkZyTeC"
      },
      "source": [
        "- {숫자} 기호: 해당 문자를 숫자만큼 번복한 것"
      ]
    },
    {
      "cell_type": "code",
      "metadata": {
        "id": "Bgx-IAZ4ySnF"
      },
      "source": [
        "r=re.compile(\"ab{2}c\")\n",
        "r.search(\"ac\")\n",
        "r.search(\"abc\")"
      ],
      "execution_count": 19,
      "outputs": []
    },
    {
      "cell_type": "code",
      "metadata": {
        "colab": {
          "base_uri": "https://localhost:8080/"
        },
        "id": "2YB7AxktzAm_",
        "outputId": "29f23994-80dc-4abe-a6db-7364f63c5470"
      },
      "source": [
        "r.search(\"abbc\")"
      ],
      "execution_count": 20,
      "outputs": [
        {
          "output_type": "execute_result",
          "data": {
            "text/plain": [
              "<re.Match object; span=(0, 4), match='abbc'>"
            ]
          },
          "metadata": {},
          "execution_count": 20
        }
      ]
    },
    {
      "cell_type": "markdown",
      "metadata": {
        "id": "F66IfJGAzD4y"
      },
      "source": [
        "- {숫자1, 숫자2} 기호: 해당 문자를 숫자1이상 숫자2이하만큼 반복"
      ]
    },
    {
      "cell_type": "code",
      "metadata": {
        "id": "loUog6M8zB4o"
      },
      "source": [
        "r = re.compile(\"ab{2,8}c\")\n",
        "r.search(\"ac\") # 아무런 결과도 출력되지 않는다.\n",
        "r.search(\"abc\")"
      ],
      "execution_count": 21,
      "outputs": []
    },
    {
      "cell_type": "code",
      "metadata": {
        "colab": {
          "base_uri": "https://localhost:8080/"
        },
        "id": "W-ExHR3zzLLk",
        "outputId": "2b9ca55b-1940-46fe-c7e9-3ed5de19d599"
      },
      "source": [
        "r.search(\"abbc\")"
      ],
      "execution_count": 22,
      "outputs": [
        {
          "output_type": "execute_result",
          "data": {
            "text/plain": [
              "<re.Match object; span=(0, 4), match='abbc'>"
            ]
          },
          "metadata": {},
          "execution_count": 22
        }
      ]
    },
    {
      "cell_type": "code",
      "metadata": {
        "colab": {
          "base_uri": "https://localhost:8080/"
        },
        "id": "g5qPLuqvzNZY",
        "outputId": "96002986-6613-4772-a39a-a001aa483050"
      },
      "source": [
        "r.search(\"abbbbbbbbc\")"
      ],
      "execution_count": 23,
      "outputs": [
        {
          "output_type": "execute_result",
          "data": {
            "text/plain": [
              "<re.Match object; span=(0, 10), match='abbbbbbbbc'>"
            ]
          },
          "metadata": {},
          "execution_count": 23
        }
      ]
    },
    {
      "cell_type": "markdown",
      "metadata": {
        "id": "1lIGGFmgzQwE"
      },
      "source": [
        "- []기호: 문자들 중 한개의 문자와 매치라는 의미"
      ]
    },
    {
      "cell_type": "code",
      "metadata": {
        "id": "EHCigkkzzOQd"
      },
      "source": [
        "r = re.compile(\"[abc]\") # [abc]는 [a-c]와 같다.\n",
        "r.search(\"zzz\") # 아무런 결과도 출력되지 않는다."
      ],
      "execution_count": 24,
      "outputs": []
    },
    {
      "cell_type": "code",
      "metadata": {
        "colab": {
          "base_uri": "https://localhost:8080/"
        },
        "id": "z1keuMTBzVrR",
        "outputId": "f657d219-6b3b-49c4-8b70-bf8a1018287e"
      },
      "source": [
        "r.search(\"baac\")    "
      ],
      "execution_count": 25,
      "outputs": [
        {
          "output_type": "execute_result",
          "data": {
            "text/plain": [
              "<re.Match object; span=(0, 1), match='b'>"
            ]
          },
          "metadata": {},
          "execution_count": 25
        }
      ]
    },
    {
      "cell_type": "code",
      "metadata": {
        "id": "4Vo5zkoHzYhT"
      },
      "source": [
        "# 소문자\n",
        "r=re.search('[a-z]', 'ABC')"
      ],
      "execution_count": 26,
      "outputs": []
    },
    {
      "cell_type": "code",
      "metadata": {
        "colab": {
          "base_uri": "https://localhost:8080/"
        },
        "id": "VgfK4GIXznHJ",
        "outputId": "51bc0f05-9c03-4f31-bc4e-9c5654c6536d"
      },
      "source": [
        "re.search('[a-z]', 'AbC')"
      ],
      "execution_count": 27,
      "outputs": [
        {
          "output_type": "execute_result",
          "data": {
            "text/plain": [
              "<re.Match object; span=(1, 2), match='b'>"
            ]
          },
          "metadata": {},
          "execution_count": 27
        }
      ]
    },
    {
      "cell_type": "code",
      "metadata": {
        "id": "QYB_5HgrzqKF"
      },
      "source": [
        "# 문자 또는 숫자\n",
        "re.search('[0-9A-Za-z]', '$%^&')\n",
        "re.search('\\w','$%^&')      #'\\w' = '[0-9A-Za-z]'"
      ],
      "execution_count": 30,
      "outputs": []
    },
    {
      "cell_type": "markdown",
      "metadata": {
        "id": "nY_MA0980OsX"
      },
      "source": [
        "- [^문자] 기호: ^ 기호 뒤에 붙은 문자들을 제외한 모든 문자를 매치"
      ]
    },
    {
      "cell_type": "code",
      "metadata": {
        "id": "nYajv3TI0UsH"
      },
      "source": [
        "r=re.compile(\"[^abc]\")\n",
        "r.search(\"a\") # 아무런 결과도 출력되지 않는다.\n",
        "r.search(\"ab\") # 아무런 결과도 출력되지 않는다.\n",
        "r.search(\"b\") # 아무런 결과도 출력되지 않는다."
      ],
      "execution_count": 28,
      "outputs": []
    },
    {
      "cell_type": "code",
      "metadata": {
        "colab": {
          "base_uri": "https://localhost:8080/"
        },
        "id": "nxYprQfj0db3",
        "outputId": "589c69aa-bb2e-435e-9ffe-c12175e95583"
      },
      "source": [
        "r.search('d1')"
      ],
      "execution_count": 29,
      "outputs": [
        {
          "output_type": "execute_result",
          "data": {
            "text/plain": [
              "<re.Match object; span=(0, 1), match='d'>"
            ]
          },
          "metadata": {},
          "execution_count": 29
        }
      ]
    },
    {
      "cell_type": "code",
      "metadata": {
        "colab": {
          "base_uri": "https://localhost:8080/",
          "height": 35
        },
        "id": "QZi6mcYC0jtn",
        "outputId": "ace50c3b-adbc-4e1f-ff85-6799156bec10"
      },
      "source": [
        "# 한글과 공백을 제외한 모든 문자를 제거 \n",
        "re.sub('[^ㄱ-ㅎㅏ-ㅣ가-힣 ]', '', '^기호 뒤에 붙은 문자.')"
      ],
      "execution_count": 33,
      "outputs": [
        {
          "output_type": "execute_result",
          "data": {
            "application/vnd.google.colaboratory.intrinsic+json": {
              "type": "string"
            },
            "text/plain": [
              "'기호 뒤에 붙은 문자'"
            ]
          },
          "metadata": {},
          "execution_count": 33
        }
      ]
    },
    {
      "cell_type": "markdown",
      "metadata": {
        "id": "wR0yhBes56tF"
      },
      "source": [
        ""
      ]
    },
    {
      "cell_type": "markdown",
      "metadata": {
        "id": "wAFw7iCT2H6O"
      },
      "source": [
        "## 2. re모듈 함수"
      ]
    },
    {
      "cell_type": "markdown",
      "metadata": {
        "id": "RAPe2mBC2KyR"
      },
      "source": [
        "- re.match() 와 re.search()의 차이"
      ]
    },
    {
      "cell_type": "code",
      "metadata": {
        "id": "xrLcTQcv2AWn"
      },
      "source": [
        "re.match('ab.', 'kkkabc')"
      ],
      "execution_count": 34,
      "outputs": []
    },
    {
      "cell_type": "code",
      "metadata": {
        "colab": {
          "base_uri": "https://localhost:8080/"
        },
        "id": "EoIt7k7P2fvG",
        "outputId": "5e755a4c-5ce3-4808-8db6-55ead9773948"
      },
      "source": [
        "re.search('ab.', 'kkkabc')"
      ],
      "execution_count": 35,
      "outputs": [
        {
          "output_type": "execute_result",
          "data": {
            "text/plain": [
              "<re.Match object; span=(3, 6), match='abc'>"
            ]
          },
          "metadata": {},
          "execution_count": 35
        }
      ]
    },
    {
      "cell_type": "markdown",
      "metadata": {
        "id": "EN9-eNdx2jCV"
      },
      "source": [
        "- re.split()"
      ]
    },
    {
      "cell_type": "code",
      "metadata": {
        "colab": {
          "base_uri": "https://localhost:8080/"
        },
        "id": "zFqySI2G2hwz",
        "outputId": "0cd3fbb2-3ee1-4e1a-fa4c-8e43fe0791d6"
      },
      "source": [
        "text=\"사과 딸기 수박 메론 바나나\"\n",
        "re.split(\" \",text)"
      ],
      "execution_count": 36,
      "outputs": [
        {
          "output_type": "execute_result",
          "data": {
            "text/plain": [
              "['사과', '딸기', '수박', '메론', '바나나']"
            ]
          },
          "metadata": {},
          "execution_count": 36
        }
      ]
    },
    {
      "cell_type": "code",
      "metadata": {
        "colab": {
          "base_uri": "https://localhost:8080/"
        },
        "id": "mgWpaAY12pta",
        "outputId": "c78454d3-f138-4d4c-c934-220d1c226cac"
      },
      "source": [
        "text.split()"
      ],
      "execution_count": 37,
      "outputs": [
        {
          "output_type": "execute_result",
          "data": {
            "text/plain": [
              "['사과', '딸기', '수박', '메론', '바나나']"
            ]
          },
          "metadata": {},
          "execution_count": 37
        }
      ]
    },
    {
      "cell_type": "code",
      "metadata": {
        "colab": {
          "base_uri": "https://localhost:8080/"
        },
        "id": "2wIEjNia2rj-",
        "outputId": "e0661b07-2258-49cd-b606-3e920a680a0a"
      },
      "source": [
        "text=\"\"\"사과\n",
        "딸기\n",
        "수박\n",
        "메론\n",
        "바나나\"\"\"\n",
        "text.split()        #\\s+가 디폴트"
      ],
      "execution_count": 38,
      "outputs": [
        {
          "output_type": "execute_result",
          "data": {
            "text/plain": [
              "['사과', '딸기', '수박', '메론', '바나나']"
            ]
          },
          "metadata": {},
          "execution_count": 38
        }
      ]
    },
    {
      "cell_type": "code",
      "metadata": {
        "colab": {
          "base_uri": "https://localhost:8080/"
        },
        "id": "sZ4srvTg25TX",
        "outputId": "345ac3a0-259e-49d7-8b5d-217a8cdb5852"
      },
      "source": [
        "re.split('\\s+', text)"
      ],
      "execution_count": 40,
      "outputs": [
        {
          "output_type": "execute_result",
          "data": {
            "text/plain": [
              "['사과', '딸기', '수박', '메론', '바나나']"
            ]
          },
          "metadata": {},
          "execution_count": 40
        }
      ]
    },
    {
      "cell_type": "markdown",
      "metadata": {
        "id": "JPr1qIv23dBr"
      },
      "source": [
        "- re.findall()"
      ]
    },
    {
      "cell_type": "code",
      "metadata": {
        "colab": {
          "base_uri": "https://localhost:8080/"
        },
        "id": "FXJW_fbn28Fz",
        "outputId": "8cc8bceb-9dc6-4ec9-b55f-7c05320df4b5"
      },
      "source": [
        "text=\"\"\"이름 : 김철수\n",
        "전화번호 : 010 - 1234 - 1234\n",
        "나이 : 30\n",
        "성별 : 남\"\"\"  \n",
        "re.findall(\"\\d+\",text)"
      ],
      "execution_count": 41,
      "outputs": [
        {
          "output_type": "execute_result",
          "data": {
            "text/plain": [
              "['010', '1234', '1234', '30']"
            ]
          },
          "metadata": {},
          "execution_count": 41
        }
      ]
    },
    {
      "cell_type": "code",
      "metadata": {
        "colab": {
          "base_uri": "https://localhost:8080/"
        },
        "id": "MvJBXtHg3gwC",
        "outputId": "fc1040bb-cd68-41d3-ead5-9a9ba622344a"
      },
      "source": [
        "re.findall(\"\\d+\", \"김철수\")"
      ],
      "execution_count": 42,
      "outputs": [
        {
          "output_type": "execute_result",
          "data": {
            "text/plain": [
              "[]"
            ]
          },
          "metadata": {},
          "execution_count": 42
        }
      ]
    },
    {
      "cell_type": "markdown",
      "metadata": {
        "id": "80NPa4j63m8n"
      },
      "source": [
        "- re.sub()"
      ]
    },
    {
      "cell_type": "code",
      "metadata": {
        "colab": {
          "base_uri": "https://localhost:8080/",
          "height": 70
        },
        "id": "SKA2R83f3kRd",
        "outputId": "e80a6a00-9d0f-4626-cbc5-adf0e55c5a46"
      },
      "source": [
        "text=\"Regular expression : A regular expression, regex or regexp[1] (sometimes called a rational expression)[2][3] is, in theoretical computer science and formal language theory, a sequence of characters that define a search pattern.\"\n",
        "re.sub('[^a-zA-Z]',' ',text)"
      ],
      "execution_count": 43,
      "outputs": [
        {
          "output_type": "execute_result",
          "data": {
            "application/vnd.google.colaboratory.intrinsic+json": {
              "type": "string"
            },
            "text/plain": [
              "'Regular expression   A regular expression  regex or regexp     sometimes called a rational expression        is  in theoretical computer science and formal language theory  a sequence of characters that define a search pattern '"
            ]
          },
          "metadata": {},
          "execution_count": 43
        }
      ]
    },
    {
      "cell_type": "markdown",
      "metadata": {
        "id": "OhTnQBcP4Bwp"
      },
      "source": [
        "## 3. 정규표현식 텍스트 전처리 예제"
      ]
    },
    {
      "cell_type": "code",
      "metadata": {
        "colab": {
          "base_uri": "https://localhost:8080/"
        },
        "id": "XpK0N1TQ3unl",
        "outputId": "523e471b-e893-4c72-82d0-a06cdae7b14c"
      },
      "source": [
        "text = \"\"\"100 John    PROF\n",
        "101 James   STUD\n",
        "102 Mac   STUD\"\"\"  \n",
        "\n",
        "re.split('\\s+', text)"
      ],
      "execution_count": 44,
      "outputs": [
        {
          "output_type": "execute_result",
          "data": {
            "text/plain": [
              "['100', 'John', 'PROF', '101', 'James', 'STUD', '102', 'Mac', 'STUD']"
            ]
          },
          "metadata": {},
          "execution_count": 44
        }
      ]
    },
    {
      "cell_type": "code",
      "metadata": {
        "colab": {
          "base_uri": "https://localhost:8080/"
        },
        "id": "c83yUf574MHx",
        "outputId": "1cd427f2-5485-41f3-f341-28fc1793e48d"
      },
      "source": [
        "re.findall('\\d+',text)  "
      ],
      "execution_count": 45,
      "outputs": [
        {
          "output_type": "execute_result",
          "data": {
            "text/plain": [
              "['100', '101', '102']"
            ]
          },
          "metadata": {},
          "execution_count": 45
        }
      ]
    },
    {
      "cell_type": "code",
      "metadata": {
        "colab": {
          "base_uri": "https://localhost:8080/"
        },
        "id": "UwY9QNEy4QfU",
        "outputId": "0dbfe904-8ed7-49ef-d95b-d5b36e9fb71e"
      },
      "source": [
        "re.findall('[A-Z]', text)"
      ],
      "execution_count": 46,
      "outputs": [
        {
          "output_type": "execute_result",
          "data": {
            "text/plain": [
              "['J', 'P', 'R', 'O', 'F', 'J', 'S', 'T', 'U', 'D', 'M', 'S', 'T', 'U', 'D']"
            ]
          },
          "metadata": {},
          "execution_count": 46
        }
      ]
    },
    {
      "cell_type": "code",
      "metadata": {
        "colab": {
          "base_uri": "https://localhost:8080/"
        },
        "id": "_y0c75By4djc",
        "outputId": "09b7734e-3e71-48fd-e747-6bdb7ee49201"
      },
      "source": [
        "re.findall('[A-Z]{4}', text)"
      ],
      "execution_count": 47,
      "outputs": [
        {
          "output_type": "execute_result",
          "data": {
            "text/plain": [
              "['PROF', 'STUD', 'STUD']"
            ]
          },
          "metadata": {},
          "execution_count": 47
        }
      ]
    },
    {
      "cell_type": "code",
      "metadata": {
        "colab": {
          "base_uri": "https://localhost:8080/"
        },
        "id": "FsUGhKXd4xgF",
        "outputId": "fec16045-5d34-4c72-cc08-ee358dbceefb"
      },
      "source": [
        "re.findall('[A-Z][a-z]+', text)"
      ],
      "execution_count": 48,
      "outputs": [
        {
          "output_type": "execute_result",
          "data": {
            "text/plain": [
              "['John', 'James', 'Mac']"
            ]
          },
          "metadata": {},
          "execution_count": 48
        }
      ]
    },
    {
      "cell_type": "markdown",
      "metadata": {
        "id": "bTeqHdua5-AX"
      },
      "source": [
        "- 기타 <br>\n",
        "[A-Z][a-z] : 첫번째 글자는 대문자, 두번째는 소문자 <br>\n",
        "[A-Za-z] : 대문자 또는 소문자 \n",
        "<br>\n",
        "[괄호뒤]+ : 여러개 찾는 것\n"
      ]
    },
    {
      "cell_type": "code",
      "metadata": {
        "id": "ZijGWVUL7R_P"
      },
      "source": [
        ""
      ],
      "execution_count": null,
      "outputs": []
    }
  ]
}