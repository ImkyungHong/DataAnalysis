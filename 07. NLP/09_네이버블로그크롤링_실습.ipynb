{
 "cells": [
  {
   "cell_type": "code",
   "execution_count": 1,
   "source": [
    "from selenium import webdriver\r\n",
    "from bs4 import BeautifulSoup\r\n",
    "import time\r\n",
    "import pandas as pd\r\n",
    "from urllib.parse import quote"
   ],
   "outputs": [],
   "metadata": {}
  },
  {
   "cell_type": "code",
   "execution_count": 2,
   "source": [
    "chromedriver = 'C:/Users/imkyu/Downloads/chromedriver.exe'\r\n",
    "driver = webdriver.Chrome(chromedriver)"
   ],
   "outputs": [],
   "metadata": {}
  },
  {
   "cell_type": "code",
   "execution_count": 3,
   "source": [
    "base_url = 'https://search.naver.com/search.naver?where=view&sm=tab_jum&query='\r\n",
    "url = base_url + quote('향수')"
   ],
   "outputs": [],
   "metadata": {}
  },
  {
   "cell_type": "code",
   "execution_count": 4,
   "source": [
    "driver.get(url)"
   ],
   "outputs": [],
   "metadata": {}
  },
  {
   "cell_type": "code",
   "execution_count": 5,
   "source": [
    "# blog 페이지를 아래로 내려서 많은 데이터 확보\r\n",
    "from selenium.webdriver.common.keys import Keys\r\n",
    "\r\n",
    "body  = driver.find_element_by_tag_name('body')\r\n",
    "for i in range(30):\r\n",
    "    body.send_keys(Keys.PAGE_DOWN)\r\n",
    "    time.sleep(2)"
   ],
   "outputs": [],
   "metadata": {}
  },
  {
   "cell_type": "code",
   "execution_count": 6,
   "source": [
    "html = driver.page_source\r\n",
    "soup = BeautifulSoup(html, 'html.parser')"
   ],
   "outputs": [],
   "metadata": {}
  },
  {
   "cell_type": "code",
   "execution_count": 7,
   "source": [
    "lis = soup.select('li.bx._svp_item')\r\n",
    "len(lis)"
   ],
   "outputs": [
    {
     "output_type": "execute_result",
     "data": {
      "text/plain": [
       "104"
      ]
     },
     "metadata": {},
     "execution_count": 7
    }
   ],
   "metadata": {}
  },
  {
   "cell_type": "code",
   "execution_count": 8,
   "source": [
    "li = lis[0]\r\n",
    "title = li.select_one('a.api_txt_lines.total_tit._cross_trigger').get_text()\r\n",
    "content = li.select_one('div.api_txt_lines.dsc_txt').get_text()\r\n",
    "date = li.select_one('.sub_time.sub_txt').get_text()\r\n",
    "title, date, content"
   ],
   "outputs": [
    {
     "output_type": "execute_result",
     "data": {
      "text/plain": [
       "('갖고있는 장미 향수 비교',\n",
       " '4일 전',\n",
       " '로즈 향수들이 적네요 사실 다들 꽤나 유명한 향수들이라서 이미 알고 계신 분들이 많으시겠지만 혹시라도 비교해보고 싶으신 분이나 다른 사람에게 어떻게 느껴지는지 궁금하신 분도 계실 것 같아 글 적어보려 합니다...')"
      ]
     },
     "metadata": {},
     "execution_count": 8
    }
   ],
   "metadata": {}
  },
  {
   "cell_type": "code",
   "execution_count": 9,
   "source": [
    "title_list, content_list, date_list = [],[],[]\r\n",
    "for i, li in enumerate(lis):\r\n",
    "    try:    #어디서 에러났는지 보려고 try, i변수, enumerate사용\r\n",
    "        title = li.select_one('a.api_txt_lines.total_tit._cross_trigger').get_text()\r\n",
    "        content = li.select_one('div.api_txt_lines.dsc_txt').get_text()\r\n",
    "        date = li.select_one('.sub_time.sub_txt').get_text()\r\n",
    "\r\n",
    "        title_list.append(title)\r\n",
    "        content_list.append(content)\r\n",
    "        date_list.append(date)\r\n",
    "    except:\r\n",
    "        print(i)"
   ],
   "outputs": [
    {
     "output_type": "stream",
     "name": "stdout",
     "text": [
      "10\n",
      "11\n",
      "22\n",
      "23\n"
     ]
    }
   ],
   "metadata": {}
  },
  {
   "cell_type": "code",
   "execution_count": 12,
   "source": [
    "title_list, content_list, date_list = [],[],[]\r\n",
    "for i, li in enumerate(lis):\r\n",
    "    try:\r\n",
    "        adv = li.select_one('a.link_ad').get_text()\r\n",
    "        if adv.strip() == '광고':\r\n",
    "            continue\r\n",
    "    except:\r\n",
    "        title = li.select_one('a.api_txt_lines.total_tit').get_text()\r\n",
    "        content = li.select_one('div.api_txt_lines.dsc_txt').get_text()\r\n",
    "        date = li.select_one('.sub_time.sub_txt').get_text()\r\n",
    "\r\n",
    "        title_list.append(title)\r\n",
    "        content_list.append(content)\r\n",
    "        date_list.append(date)\r\n",
    "\r\n",
    "        #print(i)"
   ],
   "outputs": [],
   "metadata": {}
  },
  {
   "cell_type": "code",
   "execution_count": 14,
   "source": [
    "df = pd.DataFrame({\r\n",
    "    'title':title_list, 'date':date_list, 'content':content_list\r\n",
    "})\r\n",
    "df.head()"
   ],
   "outputs": [
    {
     "output_type": "execute_result",
     "data": {
      "text/plain": [
       "                                         title         date  \\\n",
       "0                                갖고있는 장미 향수 비교         4일 전   \n",
       "1  옛새(YETSAE) 누드 인 포그, 나만 알고 싶은 젠더리스 니치 향수 브랜드  2021.08.14.   \n",
       "2                   [남자 향수 추천] 품에 안기고 싶은 남자 향수  2021.08.03.   \n",
       "3                  대니 맥켄지 밤쉘 디퓨저 후기 (나의 인생 향수)       10시간 전   \n",
       "4                          니치향수 SWG 고급짐 머선129?  2021.08.12.   \n",
       "\n",
       "                                             content  \n",
       "0  로즈 향수들이 적네요 사실 다들 꽤나 유명한 향수들이라서 이미 알고 계신 분들이 많...  \n",
       "1  또 향수의 계절 아닙니까 ㅎ_ㅎ 여름엔 답답함이 느껴져 멀리했지만 요새 또 슬슬 분...  \n",
       "2  남자 향수 추천품에 안기고 싶은 남자 향수 추천 남자 향수 추천 : 품에 안기고 싶...  \n",
       "3  대니 맥켄지 밤쉘 디퓨저 후기 (나의 인생 향수) 안녕하세요 이웃님들 ! :) 오늘...  \n",
       "4  예전에 얼핏 봤는데 많은 유럽인들은 향수를 쓰는 이유가 내 냄새를 가리기 위함이고 ...  "
      ],
      "text/html": [
       "<div>\n",
       "<style scoped>\n",
       "    .dataframe tbody tr th:only-of-type {\n",
       "        vertical-align: middle;\n",
       "    }\n",
       "\n",
       "    .dataframe tbody tr th {\n",
       "        vertical-align: top;\n",
       "    }\n",
       "\n",
       "    .dataframe thead th {\n",
       "        text-align: right;\n",
       "    }\n",
       "</style>\n",
       "<table border=\"1\" class=\"dataframe\">\n",
       "  <thead>\n",
       "    <tr style=\"text-align: right;\">\n",
       "      <th></th>\n",
       "      <th>title</th>\n",
       "      <th>date</th>\n",
       "      <th>content</th>\n",
       "    </tr>\n",
       "  </thead>\n",
       "  <tbody>\n",
       "    <tr>\n",
       "      <th>0</th>\n",
       "      <td>갖고있는 장미 향수 비교</td>\n",
       "      <td>4일 전</td>\n",
       "      <td>로즈 향수들이 적네요 사실 다들 꽤나 유명한 향수들이라서 이미 알고 계신 분들이 많...</td>\n",
       "    </tr>\n",
       "    <tr>\n",
       "      <th>1</th>\n",
       "      <td>옛새(YETSAE) 누드 인 포그, 나만 알고 싶은 젠더리스 니치 향수 브랜드</td>\n",
       "      <td>2021.08.14.</td>\n",
       "      <td>또 향수의 계절 아닙니까 ㅎ_ㅎ 여름엔 답답함이 느껴져 멀리했지만 요새 또 슬슬 분...</td>\n",
       "    </tr>\n",
       "    <tr>\n",
       "      <th>2</th>\n",
       "      <td>[남자 향수 추천] 품에 안기고 싶은 남자 향수</td>\n",
       "      <td>2021.08.03.</td>\n",
       "      <td>남자 향수 추천품에 안기고 싶은 남자 향수 추천 남자 향수 추천 : 품에 안기고 싶...</td>\n",
       "    </tr>\n",
       "    <tr>\n",
       "      <th>3</th>\n",
       "      <td>대니 맥켄지 밤쉘 디퓨저 후기 (나의 인생 향수)</td>\n",
       "      <td>10시간 전</td>\n",
       "      <td>대니 맥켄지 밤쉘 디퓨저 후기 (나의 인생 향수) 안녕하세요 이웃님들 ! :) 오늘...</td>\n",
       "    </tr>\n",
       "    <tr>\n",
       "      <th>4</th>\n",
       "      <td>니치향수 SWG 고급짐 머선129?</td>\n",
       "      <td>2021.08.12.</td>\n",
       "      <td>예전에 얼핏 봤는데 많은 유럽인들은 향수를 쓰는 이유가 내 냄새를 가리기 위함이고 ...</td>\n",
       "    </tr>\n",
       "  </tbody>\n",
       "</table>\n",
       "</div>"
      ]
     },
     "metadata": {},
     "execution_count": 14
    }
   ],
   "metadata": {}
  },
  {
   "cell_type": "code",
   "execution_count": 15,
   "source": [
    "df.shape"
   ],
   "outputs": [
    {
     "output_type": "execute_result",
     "data": {
      "text/plain": [
       "(100, 3)"
      ]
     },
     "metadata": {},
     "execution_count": 15
    }
   ],
   "metadata": {}
  },
  {
   "cell_type": "code",
   "execution_count": 16,
   "source": [
    "df.to_csv('data/perfume_blog.txt')"
   ],
   "outputs": [],
   "metadata": {}
  },
  {
   "cell_type": "code",
   "execution_count": 17,
   "source": [
    "driver.close()"
   ],
   "outputs": [],
   "metadata": {}
  },
  {
   "cell_type": "code",
   "execution_count": null,
   "source": [],
   "outputs": [],
   "metadata": {}
  }
 ],
 "metadata": {
  "orig_nbformat": 4,
  "language_info": {
   "name": "python",
   "version": "3.8.10",
   "mimetype": "text/x-python",
   "codemirror_mode": {
    "name": "ipython",
    "version": 3
   },
   "pygments_lexer": "ipython3",
   "nbconvert_exporter": "python",
   "file_extension": ".py"
  },
  "kernelspec": {
   "name": "python3",
   "display_name": "Python 3.8.10 64-bit ('base': conda)"
  },
  "interpreter": {
   "hash": "2c5373b56045d27805095073b4fd3831b9681fb378d55d950933c3cade222603"
  }
 },
 "nbformat": 4,
 "nbformat_minor": 2
}