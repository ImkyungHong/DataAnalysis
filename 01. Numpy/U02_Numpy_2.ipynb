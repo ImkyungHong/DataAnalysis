{
  "nbformat": 4,
  "nbformat_minor": 0,
  "metadata": {
    "colab": {
      "name": "U02.Numpy 2.ipynb",
      "provenance": []
    },
    "kernelspec": {
      "name": "python3",
      "display_name": "Python 3"
    },
    "language_info": {
      "name": "python"
    }
  },
  "cells": [
    {
      "cell_type": "markdown",
      "metadata": {
        "id": "QrjAaOhkUySe"
      },
      "source": [
        "# Numpy - part2"
      ]
    },
    {
      "cell_type": "code",
      "metadata": {
        "id": "g6odQ-nFUtb7"
      },
      "source": [
        "import numpy as np"
      ],
      "execution_count": 1,
      "outputs": []
    },
    {
      "cell_type": "markdown",
      "metadata": {
        "id": "3-II6na4VCTM"
      },
      "source": [
        "## 생성(Creation)"
      ]
    },
    {
      "cell_type": "markdown",
      "metadata": {
        "id": "G_llF0RFVJEv"
      },
      "source": [
        "### arange"
      ]
    },
    {
      "cell_type": "code",
      "metadata": {
        "colab": {
          "base_uri": "https://localhost:8080/"
        },
        "id": "z_uWL2IAU48L",
        "outputId": "fe1f9cc1-f662-48b6-8c22-c4e097843501"
      },
      "source": [
        "np.arange(10)"
      ],
      "execution_count": 2,
      "outputs": [
        {
          "output_type": "execute_result",
          "data": {
            "text/plain": [
              "array([0, 1, 2, 3, 4, 5, 6, 7, 8, 9])"
            ]
          },
          "metadata": {
            "tags": []
          },
          "execution_count": 2
        }
      ]
    },
    {
      "cell_type": "code",
      "metadata": {
        "colab": {
          "base_uri": "https://localhost:8080/"
        },
        "id": "HH1ZmFSdVfTJ",
        "outputId": "4bafdb88-7b9a-4ee8-e2c8-b9e15aab20f7"
      },
      "source": [
        "np.arange(1, 10, 2)"
      ],
      "execution_count": 3,
      "outputs": [
        {
          "output_type": "execute_result",
          "data": {
            "text/plain": [
              "array([1, 3, 5, 7, 9])"
            ]
          },
          "metadata": {
            "tags": []
          },
          "execution_count": 3
        }
      ]
    },
    {
      "cell_type": "code",
      "metadata": {
        "colab": {
          "base_uri": "https://localhost:8080/"
        },
        "id": "5MCW_k4hVgzc",
        "outputId": "96f94d6c-06d7-46bd-d7bb-c1f3530e1594"
      },
      "source": [
        "#실수도 가능\n",
        "np.arange(0, 5.1, 0.5)"
      ],
      "execution_count": 5,
      "outputs": [
        {
          "output_type": "execute_result",
          "data": {
            "text/plain": [
              "array([0. , 0.5, 1. , 1.5, 2. , 2.5, 3. , 3.5, 4. , 4.5, 5. ])"
            ]
          },
          "metadata": {
            "tags": []
          },
          "execution_count": 5
        }
      ]
    },
    {
      "cell_type": "code",
      "metadata": {
        "colab": {
          "base_uri": "https://localhost:8080/"
        },
        "id": "SKlf3p4EVljY",
        "outputId": "672c224e-e265-4bac-a9eb-c35781889bb1"
      },
      "source": [
        "# 그냥 바로list 안됨. .tolist 사용해야 함\n",
        "np.arange(0, 5.1, 0.5).tolist()"
      ],
      "execution_count": 11,
      "outputs": [
        {
          "output_type": "execute_result",
          "data": {
            "text/plain": [
              "[0.0, 0.5, 1.0, 1.5, 2.0, 2.5, 3.0, 3.5, 4.0, 4.5, 5.0]"
            ]
          },
          "metadata": {
            "tags": []
          },
          "execution_count": 11
        }
      ]
    },
    {
      "cell_type": "code",
      "metadata": {
        "colab": {
          "base_uri": "https://localhost:8080/"
        },
        "id": "qTu6Gde-V1VT",
        "outputId": "1073d44c-35fc-43db-b27d-fdb2cec8823c"
      },
      "source": [
        "np.arange(24).reshape(4,-1)"
      ],
      "execution_count": 12,
      "outputs": [
        {
          "output_type": "execute_result",
          "data": {
            "text/plain": [
              "array([[ 0,  1,  2,  3,  4,  5],\n",
              "       [ 6,  7,  8,  9, 10, 11],\n",
              "       [12, 13, 14, 15, 16, 17],\n",
              "       [18, 19, 20, 21, 22, 23]])"
            ]
          },
          "metadata": {
            "tags": []
          },
          "execution_count": 12
        }
      ]
    },
    {
      "cell_type": "markdown",
      "metadata": {
        "id": "Bj4P0J9Po0Ke"
      },
      "source": [
        "### 그래프 그리는 경우"
      ]
    },
    {
      "cell_type": "code",
      "metadata": {
        "colab": {
          "base_uri": "https://localhost:8080/"
        },
        "id": "Qnm28QpUWCsm",
        "outputId": "a57e2075-696a-4621-9d18-c8b9738147bd"
      },
      "source": [
        "x = np.arange(-2, 2.01, 0.02)\n",
        "x.size, x[-1]"
      ],
      "execution_count": 13,
      "outputs": [
        {
          "output_type": "execute_result",
          "data": {
            "text/plain": [
              "(201, 2.0000000000000036)"
            ]
          },
          "metadata": {
            "tags": []
          },
          "execution_count": 13
        }
      ]
    },
    {
      "cell_type": "code",
      "metadata": {
        "colab": {
          "base_uri": "https://localhost:8080/"
        },
        "id": "JFpUWpxloA1S",
        "outputId": "9335ec1b-9e39-45e1-c467-4dac867a1b97"
      },
      "source": [
        "# linspace(시작, 끝, 몇등분)\n",
        "x = np.linspace(-2, 2, 201)\n",
        "x.size, x[-1]"
      ],
      "execution_count": 14,
      "outputs": [
        {
          "output_type": "execute_result",
          "data": {
            "text/plain": [
              "(201, 2.0)"
            ]
          },
          "metadata": {
            "tags": []
          },
          "execution_count": 14
        }
      ]
    },
    {
      "cell_type": "code",
      "metadata": {
        "colab": {
          "base_uri": "https://localhost:8080/",
          "height": 265
        },
        "id": "0rwBBegsoH5k",
        "outputId": "d4445822-8a4e-425d-e97d-15cadab29208"
      },
      "source": [
        "import matplotlib.pyplot as plt\n",
        "\n",
        "y = np.exp(x)               #Hyperbolic tangent\n",
        "plt.plot(x,y)\n",
        "plt.grid()\n",
        "plt.show()"
      ],
      "execution_count": 15,
      "outputs": [
        {
          "output_type": "display_data",
          "data": {
            "image/png": "[encoded data removed]",
            "text/plain": [
              "<Figure size 432x288 with 1 Axes>"
            ]
          },
          "metadata": {
            "tags": [],
            "needs_background": "light"
          }
        }
      ]
    },
    {
      "cell_type": "markdown",
      "metadata": {
        "id": "uXlRZqWqpPjO"
      },
      "source": [
        "### ones, zeros, empty"
      ]
    },
    {
      "cell_type": "code",
      "metadata": {
        "colab": {
          "base_uri": "https://localhost:8080/"
        },
        "id": "pA88x3KLof9O",
        "outputId": "d9f15657-d12c-4ef0-9393-22c44444f532"
      },
      "source": [
        "np.ones(shape=(10,), dtype=np.int8)"
      ],
      "execution_count": 16,
      "outputs": [
        {
          "output_type": "execute_result",
          "data": {
            "text/plain": [
              "array([1, 1, 1, 1, 1, 1, 1, 1, 1, 1], dtype=int8)"
            ]
          },
          "metadata": {
            "tags": []
          },
          "execution_count": 16
        }
      ]
    },
    {
      "cell_type": "code",
      "metadata": {
        "colab": {
          "base_uri": "https://localhost:8080/"
        },
        "id": "fSoQCo2OpaJd",
        "outputId": "947ed1b0-d9e4-478e-a1bb-c878a498781d"
      },
      "source": [
        "np.ones((2,4))"
      ],
      "execution_count": 17,
      "outputs": [
        {
          "output_type": "execute_result",
          "data": {
            "text/plain": [
              "array([[1., 1., 1., 1.],\n",
              "       [1., 1., 1., 1.]])"
            ]
          },
          "metadata": {
            "tags": []
          },
          "execution_count": 17
        }
      ]
    },
    {
      "cell_type": "code",
      "metadata": {
        "colab": {
          "base_uri": "https://localhost:8080/"
        },
        "id": "JnhKFzUopimN",
        "outputId": "8de857c5-e8d2-4836-d1c9-acdc14971061"
      },
      "source": [
        "np.zeros((8,), dtype=np.float32)"
      ],
      "execution_count": 18,
      "outputs": [
        {
          "output_type": "execute_result",
          "data": {
            "text/plain": [
              "array([0., 0., 0., 0., 0., 0., 0., 0.], dtype=float32)"
            ]
          },
          "metadata": {
            "tags": []
          },
          "execution_count": 18
        }
      ]
    },
    {
      "cell_type": "code",
      "metadata": {
        "colab": {
          "base_uri": "https://localhost:8080/"
        },
        "id": "L_rsibjup1ij",
        "outputId": "09957d40-4bf8-4557-f5ac-d7ef7404e7c0"
      },
      "source": [
        "np.empty((4,))"
      ],
      "execution_count": 19,
      "outputs": [
        {
          "output_type": "execute_result",
          "data": {
            "text/plain": [
              "array([0., 0., 0., 0.])"
            ]
          },
          "metadata": {
            "tags": []
          },
          "execution_count": 19
        }
      ]
    },
    {
      "cell_type": "markdown",
      "metadata": {
        "id": "FTDkGTsfqb8Y"
      },
      "source": [
        "### something like"
      ]
    },
    {
      "cell_type": "code",
      "metadata": {
        "colab": {
          "base_uri": "https://localhost:8080/"
        },
        "id": "R5ZAhyJ_qBpx",
        "outputId": "dae83b6a-d509-4cfc-bb2b-2878ab6c2611"
      },
      "source": [
        "a = np.arange(12).reshape(3,4)\n",
        "np.ones_like(a)"
      ],
      "execution_count": 20,
      "outputs": [
        {
          "output_type": "execute_result",
          "data": {
            "text/plain": [
              "array([[1, 1, 1, 1],\n",
              "       [1, 1, 1, 1],\n",
              "       [1, 1, 1, 1]])"
            ]
          },
          "metadata": {
            "tags": []
          },
          "execution_count": 20
        }
      ]
    },
    {
      "cell_type": "code",
      "metadata": {
        "colab": {
          "base_uri": "https://localhost:8080/"
        },
        "id": "8GvtvSieqsvr",
        "outputId": "28d084b2-b277-4bf8-88d4-6cffdc26f0c6"
      },
      "source": [
        "np.zeros_like(a)"
      ],
      "execution_count": 21,
      "outputs": [
        {
          "output_type": "execute_result",
          "data": {
            "text/plain": [
              "array([[0, 0, 0, 0],\n",
              "       [0, 0, 0, 0],\n",
              "       [0, 0, 0, 0]])"
            ]
          },
          "metadata": {
            "tags": []
          },
          "execution_count": 21
        }
      ]
    },
    {
      "cell_type": "markdown",
      "metadata": {
        "id": "nu4raxDSq9yy"
      },
      "source": [
        "### 단위 행렬(identity)\n",
        "- 정방향만 가능"
      ]
    },
    {
      "cell_type": "code",
      "metadata": {
        "colab": {
          "base_uri": "https://localhost:8080/"
        },
        "id": "ZZd4UVMqq7Mn",
        "outputId": "2d736dcf-23a1-4819-c312-6382658742ae"
      },
      "source": [
        "np.identity(n=3, dtype=np.int16)"
      ],
      "execution_count": 22,
      "outputs": [
        {
          "output_type": "execute_result",
          "data": {
            "text/plain": [
              "array([[1, 0, 0],\n",
              "       [0, 1, 0],\n",
              "       [0, 0, 1]], dtype=int16)"
            ]
          },
          "metadata": {
            "tags": []
          },
          "execution_count": 22
        }
      ]
    },
    {
      "cell_type": "code",
      "metadata": {
        "colab": {
          "base_uri": "https://localhost:8080/"
        },
        "id": "DRWPdecnrQ8m",
        "outputId": "38f5f612-3904-4ca3-deea-b9a564ef6096"
      },
      "source": [
        "np.identity(3).dtype"
      ],
      "execution_count": 24,
      "outputs": [
        {
          "output_type": "execute_result",
          "data": {
            "text/plain": [
              "dtype('float64')"
            ]
          },
          "metadata": {
            "tags": []
          },
          "execution_count": 24
        }
      ]
    },
    {
      "cell_type": "code",
      "metadata": {
        "colab": {
          "base_uri": "https://localhost:8080/"
        },
        "id": "yGsyu1_CrZCi",
        "outputId": "4e12f640-8f19-4c5b-9197-202195990e17"
      },
      "source": [
        "np.identity(3)"
      ],
      "execution_count": 25,
      "outputs": [
        {
          "output_type": "execute_result",
          "data": {
            "text/plain": [
              "array([[1., 0., 0.],\n",
              "       [0., 1., 0.],\n",
              "       [0., 0., 1.]])"
            ]
          },
          "metadata": {
            "tags": []
          },
          "execution_count": 25
        }
      ]
    },
    {
      "cell_type": "markdown",
      "metadata": {
        "id": "pTla5M3yrr-5"
      },
      "source": [
        "### eye - 대각선이 1인 행렬\n",
        "- 정방향, 직사각형 다 가능"
      ]
    },
    {
      "cell_type": "code",
      "metadata": {
        "colab": {
          "base_uri": "https://localhost:8080/"
        },
        "id": "QmyYqrhZreps",
        "outputId": "6077e2f3-386d-497a-ef7e-1294bdc16498"
      },
      "source": [
        "np.eye(3,5)"
      ],
      "execution_count": 26,
      "outputs": [
        {
          "output_type": "execute_result",
          "data": {
            "text/plain": [
              "array([[1., 0., 0., 0., 0.],\n",
              "       [0., 1., 0., 0., 0.],\n",
              "       [0., 0., 1., 0., 0.]])"
            ]
          },
          "metadata": {
            "tags": []
          },
          "execution_count": 26
        }
      ]
    },
    {
      "cell_type": "code",
      "metadata": {
        "colab": {
          "base_uri": "https://localhost:8080/"
        },
        "id": "MVzCmMuVr5IH",
        "outputId": "d1336e91-2795-46e3-87f9-9fbdb545f8c4"
      },
      "source": [
        "np.eye(N=3, M=5, k=2, dtype=np.int32)       # k : start index"
      ],
      "execution_count": 27,
      "outputs": [
        {
          "output_type": "execute_result",
          "data": {
            "text/plain": [
              "array([[0, 0, 1, 0, 0],\n",
              "       [0, 0, 0, 1, 0],\n",
              "       [0, 0, 0, 0, 1]], dtype=int32)"
            ]
          },
          "metadata": {
            "tags": []
          },
          "execution_count": 27
        }
      ]
    },
    {
      "cell_type": "code",
      "metadata": {
        "colab": {
          "base_uri": "https://localhost:8080/"
        },
        "id": "HUvthdq0sIL_",
        "outputId": "961ac835-c7ea-4348-f1c6-09c9b3930dc4"
      },
      "source": [
        "np.eye(4,3, -1)"
      ],
      "execution_count": 28,
      "outputs": [
        {
          "output_type": "execute_result",
          "data": {
            "text/plain": [
              "array([[0., 0., 0.],\n",
              "       [1., 0., 0.],\n",
              "       [0., 1., 0.],\n",
              "       [0., 0., 1.]])"
            ]
          },
          "metadata": {
            "tags": []
          },
          "execution_count": 28
        }
      ]
    },
    {
      "cell_type": "markdown",
      "metadata": {
        "id": "HAyzWb_0s0-W"
      },
      "source": [
        "### diag - 대각선 위치의 값을 추출"
      ]
    },
    {
      "cell_type": "code",
      "metadata": {
        "colab": {
          "base_uri": "https://localhost:8080/"
        },
        "id": "4ouxhYw5sbeD",
        "outputId": "9858c55b-bf8d-4d2b-e67d-36145761ea0d"
      },
      "source": [
        "np.diag(np.arange(9).reshape(3,-3))"
      ],
      "execution_count": 32,
      "outputs": [
        {
          "output_type": "execute_result",
          "data": {
            "text/plain": [
              "array([0, 4, 8])"
            ]
          },
          "metadata": {
            "tags": []
          },
          "execution_count": 32
        }
      ]
    },
    {
      "cell_type": "code",
      "metadata": {
        "colab": {
          "base_uri": "https://localhost:8080/"
        },
        "id": "HUTWt26PswvL",
        "outputId": "f5a8cbe4-cf30-4a70-f188-97eb82da3174"
      },
      "source": [
        "np.diag(np.arange(9).reshape(3,-3), k=1)"
      ],
      "execution_count": 33,
      "outputs": [
        {
          "output_type": "execute_result",
          "data": {
            "text/plain": [
              "array([1, 5])"
            ]
          },
          "metadata": {
            "tags": []
          },
          "execution_count": 33
        }
      ]
    },
    {
      "cell_type": "markdown",
      "metadata": {
        "id": "t7IEOWsNtsEA"
      },
      "source": [
        "### Random sampling"
      ]
    },
    {
      "cell_type": "code",
      "metadata": {
        "colab": {
          "base_uri": "https://localhost:8080/"
        },
        "id": "d3G-5IxetKor",
        "outputId": "78729fbf-db0a-4f2f-f669-4fd32604feb1"
      },
      "source": [
        "np.random.random()"
      ],
      "execution_count": 34,
      "outputs": [
        {
          "output_type": "execute_result",
          "data": {
            "text/plain": [
              "0.5064053451516183"
            ]
          },
          "metadata": {
            "tags": []
          },
          "execution_count": 34
        }
      ]
    },
    {
      "cell_type": "code",
      "metadata": {
        "colab": {
          "base_uri": "https://localhost:8080/"
        },
        "id": "_DyXfeCFuCLl",
        "outputId": "96ab2c32-7e70-47fe-a8b7-2a6d0e270af3"
      },
      "source": [
        "np.random.seed(seed=2021)\n",
        "np.random.random()"
      ],
      "execution_count": 38,
      "outputs": [
        {
          "output_type": "execute_result",
          "data": {
            "text/plain": [
              "0.6059782788074047"
            ]
          },
          "metadata": {
            "tags": []
          },
          "execution_count": 38
        }
      ]
    },
    {
      "cell_type": "code",
      "metadata": {
        "colab": {
          "base_uri": "https://localhost:8080/"
        },
        "id": "1wCd2FcQuIav",
        "outputId": "83005763-8889-46c2-db85-9dbff26bf9cb"
      },
      "source": [
        "# 균등 분포 \n",
        "np.random.uniform(size=10)"
      ],
      "execution_count": 39,
      "outputs": [
        {
          "output_type": "execute_result",
          "data": {
            "text/plain": [
              "array([0.73336936, 0.13894716, 0.31267308, 0.99724328, 0.12816238,\n",
              "       0.17899311, 0.75292543, 0.66216051, 0.78431013, 0.0968944 ])"
            ]
          },
          "metadata": {
            "tags": []
          },
          "execution_count": 39
        }
      ]
    },
    {
      "cell_type": "code",
      "metadata": {
        "colab": {
          "base_uri": "https://localhost:8080/"
        },
        "id": "yHg147keulYs",
        "outputId": "e2622b8f-2dfa-4987-f2c4-2d161085be9a"
      },
      "source": [
        "# 정규 분포\n",
        "np.random.normal(size=10)"
      ],
      "execution_count": 40,
      "outputs": [
        {
          "output_type": "execute_result",
          "data": {
            "text/plain": [
              "array([-0.75051215,  0.21162099,  2.0448903 ,  1.07526774,  0.07902026,\n",
              "        0.49328237, -0.79136747, -2.13059519,  0.31720629, -1.36461749])"
            ]
          },
          "metadata": {
            "tags": []
          },
          "execution_count": 40
        }
      ]
    },
    {
      "cell_type": "code",
      "metadata": {
        "colab": {
          "base_uri": "https://localhost:8080/"
        },
        "id": "aoFKxuD1vKX2",
        "outputId": "4656ae9b-8317-4ed3-e329-e6895538d131"
      },
      "source": [
        "# 표준 정규분포 - N(0,1)\n",
        "np.random.randn(10)"
      ],
      "execution_count": 41,
      "outputs": [
        {
          "output_type": "execute_result",
          "data": {
            "text/plain": [
              "array([ 0.35842752, -1.30562426,  2.02071843, -2.68680391,  0.55787157,\n",
              "        0.77617621,  0.20264991, -0.50735635,  1.05898217,  0.46323535])"
            ]
          },
          "metadata": {
            "tags": []
          },
          "execution_count": 41
        }
      ]
    },
    {
      "cell_type": "code",
      "metadata": {
        "colab": {
          "base_uri": "https://localhost:8080/",
          "height": 265
        },
        "id": "jJVZjdfYvufu",
        "outputId": "dd269374-fad1-4907-ed77-337d7198ba7f"
      },
      "source": [
        "rand_norm = np.random.randn(1000)\n",
        "plt.hist(rand_norm)                 #histogram\n",
        "plt.show()"
      ],
      "execution_count": 46,
      "outputs": [
        {
          "output_type": "display_data",
          "data": {
            "image/png": "[encoded data removed]",
            "text/plain": [
              "<Figure size 432x288 with 1 Axes>"
            ]
          },
          "metadata": {
            "tags": [],
            "needs_background": "light"
          }
        }
      ]
    },
    {
      "cell_type": "markdown",
      "metadata": {
        "id": "idaoWVGZwu6M"
      },
      "source": [
        "## Operation"
      ]
    },
    {
      "cell_type": "markdown",
      "metadata": {
        "id": "emrQD7Obwz4t"
      },
      "source": [
        "### Sum 과 Axis"
      ]
    },
    {
      "cell_type": "code",
      "metadata": {
        "colab": {
          "base_uri": "https://localhost:8080/"
        },
        "id": "VOfAc7_6wV-w",
        "outputId": "dbec73d1-eae0-4cda-fe8e-44846ffec0a0"
      },
      "source": [
        "a = np.arange(1,11)\n",
        "a.sum()         #numpy에 대한 method"
      ],
      "execution_count": 47,
      "outputs": [
        {
          "output_type": "execute_result",
          "data": {
            "text/plain": [
              "55"
            ]
          },
          "metadata": {
            "tags": []
          },
          "execution_count": 47
        }
      ]
    },
    {
      "cell_type": "code",
      "metadata": {
        "colab": {
          "base_uri": "https://localhost:8080/"
        },
        "id": "bEx5X4Lqw_mk",
        "outputId": "5e281bac-3fdf-43ae-a7e4-8e2c29ef848d"
      },
      "source": [
        "sum(a)      #이건 함수 "
      ],
      "execution_count": 48,
      "outputs": [
        {
          "output_type": "execute_result",
          "data": {
            "text/plain": [
              "55"
            ]
          },
          "metadata": {
            "tags": []
          },
          "execution_count": 48
        }
      ]
    },
    {
      "cell_type": "code",
      "metadata": {
        "colab": {
          "base_uri": "https://localhost:8080/"
        },
        "id": "wsrORfphxHsq",
        "outputId": "72795ed5-030a-4325-cda0-f42608892c3c"
      },
      "source": [
        "a = np.arange(1,13).reshape(3,4)\n",
        "a"
      ],
      "execution_count": 50,
      "outputs": [
        {
          "output_type": "execute_result",
          "data": {
            "text/plain": [
              "array([[ 1,  2,  3,  4],\n",
              "       [ 5,  6,  7,  8],\n",
              "       [ 9, 10, 11, 12]])"
            ]
          },
          "metadata": {
            "tags": []
          },
          "execution_count": 50
        }
      ]
    },
    {
      "cell_type": "code",
      "metadata": {
        "colab": {
          "base_uri": "https://localhost:8080/"
        },
        "id": "-qQ8BxRkxM9L",
        "outputId": "16078102-25dd-4d3d-f11e-0429bddd4009"
      },
      "source": [
        "a.sum()"
      ],
      "execution_count": 51,
      "outputs": [
        {
          "output_type": "execute_result",
          "data": {
            "text/plain": [
              "78"
            ]
          },
          "metadata": {
            "tags": []
          },
          "execution_count": 51
        }
      ]
    },
    {
      "cell_type": "code",
      "metadata": {
        "colab": {
          "base_uri": "https://localhost:8080/"
        },
        "id": "xn2goGF_xSdV",
        "outputId": "e6faab8f-7cb4-41f7-a6bf-25e2de8e7fff"
      },
      "source": [
        "# column의 합, row 방향(↓)\n",
        "a.sum(axis=0)"
      ],
      "execution_count": 52,
      "outputs": [
        {
          "output_type": "execute_result",
          "data": {
            "text/plain": [
              "array([15, 18, 21, 24])"
            ]
          },
          "metadata": {
            "tags": []
          },
          "execution_count": 52
        }
      ]
    },
    {
      "cell_type": "code",
      "metadata": {
        "colab": {
          "base_uri": "https://localhost:8080/"
        },
        "id": "zA9uU4bmxmSk",
        "outputId": "088c0c79-1ffe-49e1-9353-d8899cfd6e78"
      },
      "source": [
        "# row의 합, column 방향(→)\n",
        "a.sum(axis=1)"
      ],
      "execution_count": 53,
      "outputs": [
        {
          "output_type": "execute_result",
          "data": {
            "text/plain": [
              "array([10, 26, 42])"
            ]
          },
          "metadata": {
            "tags": []
          },
          "execution_count": 53
        }
      ]
    },
    {
      "cell_type": "code",
      "metadata": {
        "colab": {
          "base_uri": "https://localhost:8080/"
        },
        "id": "7L3RN78qx0bM",
        "outputId": "fcabf88e-1901-4f89-edcc-31379cabe862"
      },
      "source": [
        "b = np.arange(1,25).reshape(2,3,4)\n",
        "b"
      ],
      "execution_count": 54,
      "outputs": [
        {
          "output_type": "execute_result",
          "data": {
            "text/plain": [
              "array([[[ 1,  2,  3,  4],\n",
              "        [ 5,  6,  7,  8],\n",
              "        [ 9, 10, 11, 12]],\n",
              "\n",
              "       [[13, 14, 15, 16],\n",
              "        [17, 18, 19, 20],\n",
              "        [21, 22, 23, 24]]])"
            ]
          },
          "metadata": {
            "tags": []
          },
          "execution_count": 54
        }
      ]
    },
    {
      "cell_type": "code",
      "metadata": {
        "colab": {
          "base_uri": "https://localhost:8080/"
        },
        "id": "bRanMZDfyMsT",
        "outputId": "68b31490-740a-43f4-acc9-872108b8dde9"
      },
      "source": [
        "b.sum(axis=0)               # (2, 3, 4) --> (3,4)"
      ],
      "execution_count": 55,
      "outputs": [
        {
          "output_type": "execute_result",
          "data": {
            "text/plain": [
              "array([[14, 16, 18, 20],\n",
              "       [22, 24, 26, 28],\n",
              "       [30, 32, 34, 36]])"
            ]
          },
          "metadata": {
            "tags": []
          },
          "execution_count": 55
        }
      ]
    },
    {
      "cell_type": "code",
      "metadata": {
        "colab": {
          "base_uri": "https://localhost:8080/"
        },
        "id": "JamaYtAjyWLK",
        "outputId": "56d23dcd-72c9-4f23-d64d-c68909e3e5ab"
      },
      "source": [
        "b.sum(axis=1)               # (2, 3, 4) --> (2,4)"
      ],
      "execution_count": 56,
      "outputs": [
        {
          "output_type": "execute_result",
          "data": {
            "text/plain": [
              "array([[15, 18, 21, 24],\n",
              "       [51, 54, 57, 60]])"
            ]
          },
          "metadata": {
            "tags": []
          },
          "execution_count": 56
        }
      ]
    },
    {
      "cell_type": "code",
      "metadata": {
        "colab": {
          "base_uri": "https://localhost:8080/"
        },
        "id": "go8vIQZhyYm3",
        "outputId": "cb19b3aa-7fef-417f-9a0b-9078deab6cad"
      },
      "source": [
        "b.sum(axis=2)               # (2, 3, 4) --> (2,3)"
      ],
      "execution_count": 57,
      "outputs": [
        {
          "output_type": "execute_result",
          "data": {
            "text/plain": [
              "array([[10, 26, 42],\n",
              "       [58, 74, 90]])"
            ]
          },
          "metadata": {
            "tags": []
          },
          "execution_count": 57
        }
      ]
    },
    {
      "cell_type": "markdown",
      "metadata": {
        "id": "qXKLHidR1kCJ"
      },
      "source": [
        "### 통계, 수학 함수"
      ]
    },
    {
      "cell_type": "code",
      "metadata": {
        "colab": {
          "base_uri": "https://localhost:8080/"
        },
        "id": "AYolOaQryZ6a",
        "outputId": "d809391c-0fb2-44f8-ba6d-78900f505aa7"
      },
      "source": [
        "b.mean(), b.var(), b.std()"
      ],
      "execution_count": 59,
      "outputs": [
        {
          "output_type": "execute_result",
          "data": {
            "text/plain": [
              "(12.5, 47.916666666666664, 6.922186552431729)"
            ]
          },
          "metadata": {
            "tags": []
          },
          "execution_count": 59
        }
      ]
    },
    {
      "cell_type": "code",
      "metadata": {
        "colab": {
          "base_uri": "https://localhost:8080/"
        },
        "id": "yLCuLp0i1xTZ",
        "outputId": "b27b8a10-c01a-42ec-a0c6-33b80790e448"
      },
      "source": [
        "a.mean(), a.mean(axis=0), a.mean(axis=1)"
      ],
      "execution_count": 60,
      "outputs": [
        {
          "output_type": "execute_result",
          "data": {
            "text/plain": [
              "(6.5, array([5., 6., 7., 8.]), array([ 2.5,  6.5, 10.5]))"
            ]
          },
          "metadata": {
            "tags": []
          },
          "execution_count": 60
        }
      ]
    },
    {
      "cell_type": "code",
      "metadata": {
        "colab": {
          "base_uri": "https://localhost:8080/"
        },
        "id": "15h-yJG22DR1",
        "outputId": "cff2f0c7-a3dc-4f63-f152-a9d41db73d05"
      },
      "source": [
        "np.exp(a)"
      ],
      "execution_count": 61,
      "outputs": [
        {
          "output_type": "execute_result",
          "data": {
            "text/plain": [
              "array([[2.71828183e+00, 7.38905610e+00, 2.00855369e+01, 5.45981500e+01],\n",
              "       [1.48413159e+02, 4.03428793e+02, 1.09663316e+03, 2.98095799e+03],\n",
              "       [8.10308393e+03, 2.20264658e+04, 5.98741417e+04, 1.62754791e+05]])"
            ]
          },
          "metadata": {
            "tags": []
          },
          "execution_count": 61
        }
      ]
    },
    {
      "cell_type": "markdown",
      "metadata": {
        "id": "1aMHZjVy22Lk"
      },
      "source": [
        "### Concatenate"
      ]
    },
    {
      "cell_type": "code",
      "metadata": {
        "colab": {
          "base_uri": "https://localhost:8080/"
        },
        "id": "iCfSvJbJ2zBM",
        "outputId": "9c366141-0d6e-4c2d-9d94-43b4cae8a278"
      },
      "source": [
        "a = np.arange(1,5).reshape(2,2)\n",
        "b = np.arange(5,7).reshape(1,2)\n",
        "np.vstack((a,b))"
      ],
      "execution_count": 65,
      "outputs": [
        {
          "output_type": "execute_result",
          "data": {
            "text/plain": [
              "array([[1, 2],\n",
              "       [3, 4],\n",
              "       [5, 6]])"
            ]
          },
          "metadata": {
            "tags": []
          },
          "execution_count": 65
        }
      ]
    },
    {
      "cell_type": "code",
      "metadata": {
        "colab": {
          "base_uri": "https://localhost:8080/"
        },
        "id": "OvgggEB53MS5",
        "outputId": "6fdbbfd7-76c4-4fb0-b688-0de3b6969579"
      },
      "source": [
        "np.concatenate((a,b), axis=0)\n"
      ],
      "execution_count": 69,
      "outputs": [
        {
          "output_type": "execute_result",
          "data": {
            "text/plain": [
              "array([[1, 2],\n",
              "       [3, 4],\n",
              "       [5, 6]])"
            ]
          },
          "metadata": {
            "tags": []
          },
          "execution_count": 69
        }
      ]
    },
    {
      "cell_type": "code",
      "metadata": {
        "colab": {
          "base_uri": "https://localhost:8080/"
        },
        "id": "vwaPddPi3047",
        "outputId": "cc7a6086-f2ec-47e4-f63a-c6b2cb36c7e8"
      },
      "source": [
        "# 전치행렬 (Transpose) : (1,2) -> (2,1)\n",
        "b.T"
      ],
      "execution_count": 71,
      "outputs": [
        {
          "output_type": "execute_result",
          "data": {
            "text/plain": [
              "array([[5],\n",
              "       [6]])"
            ]
          },
          "metadata": {
            "tags": []
          },
          "execution_count": 71
        }
      ]
    },
    {
      "cell_type": "code",
      "metadata": {
        "id": "YNRjcgKd3l3T"
      },
      "source": [
        "np.hstack((a,b))        # 사이즈가 안맞는다고 오류남 "
      ],
      "execution_count": null,
      "outputs": []
    },
    {
      "cell_type": "code",
      "metadata": {
        "colab": {
          "base_uri": "https://localhost:8080/"
        },
        "id": "7bzpvkIw4CvI",
        "outputId": "9f212d27-0c02-4339-b4f1-b926372786dc"
      },
      "source": [
        "np.hstack((a,b.T))"
      ],
      "execution_count": 73,
      "outputs": [
        {
          "output_type": "execute_result",
          "data": {
            "text/plain": [
              "array([[1, 2, 5],\n",
              "       [3, 4, 6]])"
            ]
          },
          "metadata": {
            "tags": []
          },
          "execution_count": 73
        }
      ]
    },
    {
      "cell_type": "code",
      "metadata": {
        "colab": {
          "base_uri": "https://localhost:8080/"
        },
        "id": "c5v4JQ7N4ErO",
        "outputId": "82a7eaf0-e838-4e41-89c3-41c955c55b8b"
      },
      "source": [
        "np.concatenate((a,b.T), axis=1)"
      ],
      "execution_count": 74,
      "outputs": [
        {
          "output_type": "execute_result",
          "data": {
            "text/plain": [
              "array([[1, 2, 5],\n",
              "       [3, 4, 6]])"
            ]
          },
          "metadata": {
            "tags": []
          },
          "execution_count": 74
        }
      ]
    },
    {
      "cell_type": "code",
      "metadata": {
        "id": "b63doXq-4Lq5"
      },
      "source": [
        ""
      ],
      "execution_count": null,
      "outputs": []
    }
  ]
}