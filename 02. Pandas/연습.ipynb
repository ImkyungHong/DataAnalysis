{
  "nbformat": 4,
  "nbformat_minor": 0,
  "metadata": {
    "colab": {
      "name": "연습.ipynb",
      "provenance": []
    },
    "kernelspec": {
      "name": "python3",
      "display_name": "Python 3"
    },
    "language_info": {
      "name": "python"
    }
  },
  "cells": [
    {
      "cell_type": "code",
      "metadata": {
        "id": "aDP78Orkq4UJ"
      },
      "source": [
        "import numpy as np\n",
        "import pandas as pd\n",
        "import seaborn as sns"
      ],
      "execution_count": 2,
      "outputs": []
    },
    {
      "cell_type": "code",
      "metadata": {
        "colab": {
          "base_uri": "https://localhost:8080/",
          "height": 175
        },
        "id": "fHq0uRx0rrYs",
        "outputId": "3820a0e5-e1c7-4ab7-a4ac-e5411ac8af36"
      },
      "source": [
        "# 1. 2차원 표 \n",
        "df = pd.DataFrame(np.arange(20).reshape(4,5),\n",
        "                  index=list('abcd'), columns=list('vwxyz'))\n",
        "df"
      ],
      "execution_count": 5,
      "outputs": [
        {
          "output_type": "execute_result",
          "data": {
            "text/html": [
              "<div>\n",
              "<style scoped>\n",
              "    .dataframe tbody tr th:only-of-type {\n",
              "        vertical-align: middle;\n",
              "    }\n",
              "\n",
              "    .dataframe tbody tr th {\n",
              "        vertical-align: top;\n",
              "    }\n",
              "\n",
              "    .dataframe thead th {\n",
              "        text-align: right;\n",
              "    }\n",
              "</style>\n",
              "<table border=\"1\" class=\"dataframe\">\n",
              "  <thead>\n",
              "    <tr style=\"text-align: right;\">\n",
              "      <th></th>\n",
              "      <th>v</th>\n",
              "      <th>w</th>\n",
              "      <th>x</th>\n",
              "      <th>y</th>\n",
              "      <th>z</th>\n",
              "    </tr>\n",
              "  </thead>\n",
              "  <tbody>\n",
              "    <tr>\n",
              "      <th>a</th>\n",
              "      <td>0</td>\n",
              "      <td>1</td>\n",
              "      <td>2</td>\n",
              "      <td>3</td>\n",
              "      <td>4</td>\n",
              "    </tr>\n",
              "    <tr>\n",
              "      <th>b</th>\n",
              "      <td>5</td>\n",
              "      <td>6</td>\n",
              "      <td>7</td>\n",
              "      <td>8</td>\n",
              "      <td>9</td>\n",
              "    </tr>\n",
              "    <tr>\n",
              "      <th>c</th>\n",
              "      <td>10</td>\n",
              "      <td>11</td>\n",
              "      <td>12</td>\n",
              "      <td>13</td>\n",
              "      <td>14</td>\n",
              "    </tr>\n",
              "    <tr>\n",
              "      <th>d</th>\n",
              "      <td>15</td>\n",
              "      <td>16</td>\n",
              "      <td>17</td>\n",
              "      <td>18</td>\n",
              "      <td>19</td>\n",
              "    </tr>\n",
              "  </tbody>\n",
              "</table>\n",
              "</div>"
            ],
            "text/plain": [
              "    v   w   x   y   z\n",
              "a   0   1   2   3   4\n",
              "b   5   6   7   8   9\n",
              "c  10  11  12  13  14\n",
              "d  15  16  17  18  19"
            ]
          },
          "metadata": {
            "tags": []
          },
          "execution_count": 5
        }
      ]
    },
    {
      "cell_type": "code",
      "metadata": {
        "colab": {
          "base_uri": "https://localhost:8080/",
          "height": 143
        },
        "id": "MVcrbbYHsXt8",
        "outputId": "7ae5bd47-1d7c-4bf1-a572-678f12065b74"
      },
      "source": [
        "# 2. Dictionary List\n",
        "dl = [\n",
        "      {'name':'James', 'age':24, 'job':'student'},\n",
        "      {'name':'Maria', 'age':36, 'job':'teacher'},\n",
        "      {'name':'Brian', 'age':30, 'job':'programmer'},\n",
        "]\n",
        "df = pd.DataFrame(dl)\n",
        "df"
      ],
      "execution_count": 6,
      "outputs": [
        {
          "output_type": "execute_result",
          "data": {
            "text/html": [
              "<div>\n",
              "<style scoped>\n",
              "    .dataframe tbody tr th:only-of-type {\n",
              "        vertical-align: middle;\n",
              "    }\n",
              "\n",
              "    .dataframe tbody tr th {\n",
              "        vertical-align: top;\n",
              "    }\n",
              "\n",
              "    .dataframe thead th {\n",
              "        text-align: right;\n",
              "    }\n",
              "</style>\n",
              "<table border=\"1\" class=\"dataframe\">\n",
              "  <thead>\n",
              "    <tr style=\"text-align: right;\">\n",
              "      <th></th>\n",
              "      <th>name</th>\n",
              "      <th>age</th>\n",
              "      <th>job</th>\n",
              "    </tr>\n",
              "  </thead>\n",
              "  <tbody>\n",
              "    <tr>\n",
              "      <th>0</th>\n",
              "      <td>James</td>\n",
              "      <td>24</td>\n",
              "      <td>student</td>\n",
              "    </tr>\n",
              "    <tr>\n",
              "      <th>1</th>\n",
              "      <td>Maria</td>\n",
              "      <td>36</td>\n",
              "      <td>teacher</td>\n",
              "    </tr>\n",
              "    <tr>\n",
              "      <th>2</th>\n",
              "      <td>Brian</td>\n",
              "      <td>30</td>\n",
              "      <td>programmer</td>\n",
              "    </tr>\n",
              "  </tbody>\n",
              "</table>\n",
              "</div>"
            ],
            "text/plain": [
              "    name  age         job\n",
              "0  James   24     student\n",
              "1  Maria   36     teacher\n",
              "2  Brian   30  programmer"
            ]
          },
          "metadata": {
            "tags": []
          },
          "execution_count": 6
        }
      ]
    },
    {
      "cell_type": "code",
      "metadata": {
        "colab": {
          "base_uri": "https://localhost:8080/",
          "height": 143
        },
        "id": "jigQQeNetKDP",
        "outputId": "bc090bff-78bc-443a-8f26-387838837e94"
      },
      "source": [
        "# 3. 여러개의 리스트 이용 \n",
        "names = ['James', 'Maria', 'Brian']\n",
        "age = [24, 36, 30]\n",
        "jobs = ['student', 'teacher', 'programmer']\n",
        "df = pd.DataFrame({\n",
        "    'name':names, 'age':age, 'job':jobs\n",
        "})\n",
        "df"
      ],
      "execution_count": 7,
      "outputs": [
        {
          "output_type": "execute_result",
          "data": {
            "text/html": [
              "<div>\n",
              "<style scoped>\n",
              "    .dataframe tbody tr th:only-of-type {\n",
              "        vertical-align: middle;\n",
              "    }\n",
              "\n",
              "    .dataframe tbody tr th {\n",
              "        vertical-align: top;\n",
              "    }\n",
              "\n",
              "    .dataframe thead th {\n",
              "        text-align: right;\n",
              "    }\n",
              "</style>\n",
              "<table border=\"1\" class=\"dataframe\">\n",
              "  <thead>\n",
              "    <tr style=\"text-align: right;\">\n",
              "      <th></th>\n",
              "      <th>name</th>\n",
              "      <th>age</th>\n",
              "      <th>job</th>\n",
              "    </tr>\n",
              "  </thead>\n",
              "  <tbody>\n",
              "    <tr>\n",
              "      <th>0</th>\n",
              "      <td>James</td>\n",
              "      <td>24</td>\n",
              "      <td>student</td>\n",
              "    </tr>\n",
              "    <tr>\n",
              "      <th>1</th>\n",
              "      <td>Maria</td>\n",
              "      <td>36</td>\n",
              "      <td>teacher</td>\n",
              "    </tr>\n",
              "    <tr>\n",
              "      <th>2</th>\n",
              "      <td>Brian</td>\n",
              "      <td>30</td>\n",
              "      <td>programmer</td>\n",
              "    </tr>\n",
              "  </tbody>\n",
              "</table>\n",
              "</div>"
            ],
            "text/plain": [
              "    name  age         job\n",
              "0  James   24     student\n",
              "1  Maria   36     teacher\n",
              "2  Brian   30  programmer"
            ]
          },
          "metadata": {
            "tags": []
          },
          "execution_count": 7
        }
      ]
    },
    {
      "cell_type": "code",
      "metadata": {
        "colab": {
          "base_uri": "https://localhost:8080/",
          "height": 206
        },
        "id": "IOWGigSdumj4",
        "outputId": "582a7be0-aa96-4824-d38e-bde80639a092"
      },
      "source": [
        "# 연습 \n",
        "iris = sns.load_dataset('iris')\n",
        "iris.head()"
      ],
      "execution_count": 8,
      "outputs": [
        {
          "output_type": "execute_result",
          "data": {
            "text/html": [
              "<div>\n",
              "<style scoped>\n",
              "    .dataframe tbody tr th:only-of-type {\n",
              "        vertical-align: middle;\n",
              "    }\n",
              "\n",
              "    .dataframe tbody tr th {\n",
              "        vertical-align: top;\n",
              "    }\n",
              "\n",
              "    .dataframe thead th {\n",
              "        text-align: right;\n",
              "    }\n",
              "</style>\n",
              "<table border=\"1\" class=\"dataframe\">\n",
              "  <thead>\n",
              "    <tr style=\"text-align: right;\">\n",
              "      <th></th>\n",
              "      <th>sepal_length</th>\n",
              "      <th>sepal_width</th>\n",
              "      <th>petal_length</th>\n",
              "      <th>petal_width</th>\n",
              "      <th>species</th>\n",
              "    </tr>\n",
              "  </thead>\n",
              "  <tbody>\n",
              "    <tr>\n",
              "      <th>0</th>\n",
              "      <td>5.1</td>\n",
              "      <td>3.5</td>\n",
              "      <td>1.4</td>\n",
              "      <td>0.2</td>\n",
              "      <td>setosa</td>\n",
              "    </tr>\n",
              "    <tr>\n",
              "      <th>1</th>\n",
              "      <td>4.9</td>\n",
              "      <td>3.0</td>\n",
              "      <td>1.4</td>\n",
              "      <td>0.2</td>\n",
              "      <td>setosa</td>\n",
              "    </tr>\n",
              "    <tr>\n",
              "      <th>2</th>\n",
              "      <td>4.7</td>\n",
              "      <td>3.2</td>\n",
              "      <td>1.3</td>\n",
              "      <td>0.2</td>\n",
              "      <td>setosa</td>\n",
              "    </tr>\n",
              "    <tr>\n",
              "      <th>3</th>\n",
              "      <td>4.6</td>\n",
              "      <td>3.1</td>\n",
              "      <td>1.5</td>\n",
              "      <td>0.2</td>\n",
              "      <td>setosa</td>\n",
              "    </tr>\n",
              "    <tr>\n",
              "      <th>4</th>\n",
              "      <td>5.0</td>\n",
              "      <td>3.6</td>\n",
              "      <td>1.4</td>\n",
              "      <td>0.2</td>\n",
              "      <td>setosa</td>\n",
              "    </tr>\n",
              "  </tbody>\n",
              "</table>\n",
              "</div>"
            ],
            "text/plain": [
              "   sepal_length  sepal_width  petal_length  petal_width species\n",
              "0           5.1          3.5           1.4          0.2  setosa\n",
              "1           4.9          3.0           1.4          0.2  setosa\n",
              "2           4.7          3.2           1.3          0.2  setosa\n",
              "3           4.6          3.1           1.5          0.2  setosa\n",
              "4           5.0          3.6           1.4          0.2  setosa"
            ]
          },
          "metadata": {
            "tags": []
          },
          "execution_count": 8
        }
      ]
    },
    {
      "cell_type": "code",
      "metadata": {
        "colab": {
          "base_uri": "https://localhost:8080/"
        },
        "id": "E4TFbEv9yDoJ",
        "outputId": "f82f6894-7421-447e-a876-98b0109723be"
      },
      "source": [
        "iris.info()"
      ],
      "execution_count": 9,
      "outputs": [
        {
          "output_type": "stream",
          "text": [
            "<class 'pandas.core.frame.DataFrame'>\n",
            "RangeIndex: 150 entries, 0 to 149\n",
            "Data columns (total 5 columns):\n",
            " #   Column        Non-Null Count  Dtype  \n",
            "---  ------        --------------  -----  \n",
            " 0   sepal_length  150 non-null    float64\n",
            " 1   sepal_width   150 non-null    float64\n",
            " 2   petal_length  150 non-null    float64\n",
            " 3   petal_width   150 non-null    float64\n",
            " 4   species       150 non-null    object \n",
            "dtypes: float64(4), object(1)\n",
            "memory usage: 6.0+ KB\n"
          ],
          "name": "stdout"
        }
      ]
    },
    {
      "cell_type": "code",
      "metadata": {
        "colab": {
          "base_uri": "https://localhost:8080/"
        },
        "id": "8vaLeDXoyI91",
        "outputId": "bc12d000-ae1c-4e6a-9f00-25dd17236e11"
      },
      "source": [
        "iris.species.value_counts()"
      ],
      "execution_count": 12,
      "outputs": [
        {
          "output_type": "execute_result",
          "data": {
            "text/plain": [
              "virginica     50\n",
              "versicolor    50\n",
              "setosa        50\n",
              "Name: species, dtype: int64"
            ]
          },
          "metadata": {
            "tags": []
          },
          "execution_count": 12
        }
      ]
    },
    {
      "cell_type": "code",
      "metadata": {
        "colab": {
          "base_uri": "https://localhost:8080/"
        },
        "id": "MbxIsBsSyuP-",
        "outputId": "b3e2e716-17ab-41c8-ed42-302f9bc3236b"
      },
      "source": [
        "iris[iris.species == 'setosa']['sepal_length']"
      ],
      "execution_count": 13,
      "outputs": [
        {
          "output_type": "execute_result",
          "data": {
            "text/plain": [
              "0     5.1\n",
              "1     4.9\n",
              "2     4.7\n",
              "3     4.6\n",
              "4     5.0\n",
              "5     5.4\n",
              "6     4.6\n",
              "7     5.0\n",
              "8     4.4\n",
              "9     4.9\n",
              "10    5.4\n",
              "11    4.8\n",
              "12    4.8\n",
              "13    4.3\n",
              "14    5.8\n",
              "15    5.7\n",
              "16    5.4\n",
              "17    5.1\n",
              "18    5.7\n",
              "19    5.1\n",
              "20    5.4\n",
              "21    5.1\n",
              "22    4.6\n",
              "23    5.1\n",
              "24    4.8\n",
              "25    5.0\n",
              "26    5.0\n",
              "27    5.2\n",
              "28    5.2\n",
              "29    4.7\n",
              "30    4.8\n",
              "31    5.4\n",
              "32    5.2\n",
              "33    5.5\n",
              "34    4.9\n",
              "35    5.0\n",
              "36    5.5\n",
              "37    4.9\n",
              "38    4.4\n",
              "39    5.1\n",
              "40    5.0\n",
              "41    4.5\n",
              "42    4.4\n",
              "43    5.0\n",
              "44    5.1\n",
              "45    4.8\n",
              "46    5.1\n",
              "47    4.6\n",
              "48    5.3\n",
              "49    5.0\n",
              "Name: sepal_length, dtype: float64"
            ]
          },
          "metadata": {
            "tags": []
          },
          "execution_count": 13
        }
      ]
    },
    {
      "cell_type": "code",
      "metadata": {
        "colab": {
          "base_uri": "https://localhost:8080/"
        },
        "id": "HLYIt87TzzzQ",
        "outputId": "00b473b1-be35-4253-a228-dd0c958a847d"
      },
      "source": [
        "np.mean(iris[iris.species == 'setosa']['sepal_length'])"
      ],
      "execution_count": 14,
      "outputs": [
        {
          "output_type": "execute_result",
          "data": {
            "text/plain": [
              "5.005999999999999"
            ]
          },
          "metadata": {
            "tags": []
          },
          "execution_count": 14
        }
      ]
    },
    {
      "cell_type": "code",
      "metadata": {
        "colab": {
          "base_uri": "https://localhost:8080/"
        },
        "id": "GkwtVx1Fz3fZ",
        "outputId": "71f54e36-9e4d-4d94-f334-13417d488478"
      },
      "source": [
        "np.std(iris[iris.species == 'setosa']['sepal_length'])"
      ],
      "execution_count": 15,
      "outputs": [
        {
          "output_type": "execute_result",
          "data": {
            "text/plain": [
              "0.348946987377739"
            ]
          },
          "metadata": {
            "tags": []
          },
          "execution_count": 15
        }
      ]
    },
    {
      "cell_type": "code",
      "metadata": {
        "colab": {
          "base_uri": "https://localhost:8080/"
        },
        "id": "QeRLSoFQ5UAM",
        "outputId": "7f7ce61c-57e2-4d7a-d8b7-8807c3571f6f"
      },
      "source": [
        "iris.species.unique()"
      ],
      "execution_count": 16,
      "outputs": [
        {
          "output_type": "execute_result",
          "data": {
            "text/plain": [
              "array(['setosa', 'versicolor', 'virginica'], dtype=object)"
            ]
          },
          "metadata": {
            "tags": []
          },
          "execution_count": 16
        }
      ]
    },
    {
      "cell_type": "code",
      "metadata": {
        "colab": {
          "base_uri": "https://localhost:8080/"
        },
        "id": "ea3alYHa5hXf",
        "outputId": "df40b562-6cda-43dc-c745-c8c4ec9f6fa7"
      },
      "source": [
        "iris.columns"
      ],
      "execution_count": 17,
      "outputs": [
        {
          "output_type": "execute_result",
          "data": {
            "text/plain": [
              "Index(['sepal_length', 'sepal_width', 'petal_length', 'petal_width',\n",
              "       'species'],\n",
              "      dtype='object')"
            ]
          },
          "metadata": {
            "tags": []
          },
          "execution_count": 17
        }
      ]
    },
    {
      "cell_type": "code",
      "metadata": {
        "id": "CUikLrw6z5vg"
      },
      "source": [
        "# for문 사용 기억해!\n",
        "species_list, feature_list, mean_list, std_list = [], [], [], []\n",
        "for species in iris.species.unique():\n",
        "    for feature in iris.columns[:-1]:\n",
        "        s = iris[iris.species == species][feature]\n",
        "        species_list.append(species)\n",
        "        feature_list.append(feature)\n",
        "        mean_list.append(np.round(s.mean(), 2))\n",
        "        std_list.append(np.round(s.std(), 4))"
      ],
      "execution_count": 18,
      "outputs": []
    },
    {
      "cell_type": "code",
      "metadata": {
        "colab": {
          "base_uri": "https://localhost:8080/",
          "height": 425
        },
        "id": "sc42JjHl6nfJ",
        "outputId": "f20fd6fe-0852-4a54-e6be-1e56bd9bd7f4"
      },
      "source": [
        "df = pd.DataFrame({\n",
        "    'species':species_list, 'feature':feature_list,\n",
        "    'mean':mean_list, 'std':std_list\n",
        "})\n",
        "df"
      ],
      "execution_count": 19,
      "outputs": [
        {
          "output_type": "execute_result",
          "data": {
            "text/html": [
              "<div>\n",
              "<style scoped>\n",
              "    .dataframe tbody tr th:only-of-type {\n",
              "        vertical-align: middle;\n",
              "    }\n",
              "\n",
              "    .dataframe tbody tr th {\n",
              "        vertical-align: top;\n",
              "    }\n",
              "\n",
              "    .dataframe thead th {\n",
              "        text-align: right;\n",
              "    }\n",
              "</style>\n",
              "<table border=\"1\" class=\"dataframe\">\n",
              "  <thead>\n",
              "    <tr style=\"text-align: right;\">\n",
              "      <th></th>\n",
              "      <th>species</th>\n",
              "      <th>feature</th>\n",
              "      <th>mean</th>\n",
              "      <th>std</th>\n",
              "    </tr>\n",
              "  </thead>\n",
              "  <tbody>\n",
              "    <tr>\n",
              "      <th>0</th>\n",
              "      <td>setosa</td>\n",
              "      <td>sepal_length</td>\n",
              "      <td>5.01</td>\n",
              "      <td>0.3525</td>\n",
              "    </tr>\n",
              "    <tr>\n",
              "      <th>1</th>\n",
              "      <td>setosa</td>\n",
              "      <td>sepal_width</td>\n",
              "      <td>3.43</td>\n",
              "      <td>0.3791</td>\n",
              "    </tr>\n",
              "    <tr>\n",
              "      <th>2</th>\n",
              "      <td>setosa</td>\n",
              "      <td>petal_length</td>\n",
              "      <td>1.46</td>\n",
              "      <td>0.1737</td>\n",
              "    </tr>\n",
              "    <tr>\n",
              "      <th>3</th>\n",
              "      <td>setosa</td>\n",
              "      <td>petal_width</td>\n",
              "      <td>0.25</td>\n",
              "      <td>0.1054</td>\n",
              "    </tr>\n",
              "    <tr>\n",
              "      <th>4</th>\n",
              "      <td>versicolor</td>\n",
              "      <td>sepal_length</td>\n",
              "      <td>5.94</td>\n",
              "      <td>0.5162</td>\n",
              "    </tr>\n",
              "    <tr>\n",
              "      <th>5</th>\n",
              "      <td>versicolor</td>\n",
              "      <td>sepal_width</td>\n",
              "      <td>2.77</td>\n",
              "      <td>0.3138</td>\n",
              "    </tr>\n",
              "    <tr>\n",
              "      <th>6</th>\n",
              "      <td>versicolor</td>\n",
              "      <td>petal_length</td>\n",
              "      <td>4.26</td>\n",
              "      <td>0.4699</td>\n",
              "    </tr>\n",
              "    <tr>\n",
              "      <th>7</th>\n",
              "      <td>versicolor</td>\n",
              "      <td>petal_width</td>\n",
              "      <td>1.33</td>\n",
              "      <td>0.1978</td>\n",
              "    </tr>\n",
              "    <tr>\n",
              "      <th>8</th>\n",
              "      <td>virginica</td>\n",
              "      <td>sepal_length</td>\n",
              "      <td>6.59</td>\n",
              "      <td>0.6359</td>\n",
              "    </tr>\n",
              "    <tr>\n",
              "      <th>9</th>\n",
              "      <td>virginica</td>\n",
              "      <td>sepal_width</td>\n",
              "      <td>2.97</td>\n",
              "      <td>0.3225</td>\n",
              "    </tr>\n",
              "    <tr>\n",
              "      <th>10</th>\n",
              "      <td>virginica</td>\n",
              "      <td>petal_length</td>\n",
              "      <td>5.55</td>\n",
              "      <td>0.5519</td>\n",
              "    </tr>\n",
              "    <tr>\n",
              "      <th>11</th>\n",
              "      <td>virginica</td>\n",
              "      <td>petal_width</td>\n",
              "      <td>2.03</td>\n",
              "      <td>0.2747</td>\n",
              "    </tr>\n",
              "  </tbody>\n",
              "</table>\n",
              "</div>"
            ],
            "text/plain": [
              "       species       feature  mean     std\n",
              "0       setosa  sepal_length  5.01  0.3525\n",
              "1       setosa   sepal_width  3.43  0.3791\n",
              "2       setosa  petal_length  1.46  0.1737\n",
              "3       setosa   petal_width  0.25  0.1054\n",
              "4   versicolor  sepal_length  5.94  0.5162\n",
              "5   versicolor   sepal_width  2.77  0.3138\n",
              "6   versicolor  petal_length  4.26  0.4699\n",
              "7   versicolor   petal_width  1.33  0.1978\n",
              "8    virginica  sepal_length  6.59  0.6359\n",
              "9    virginica   sepal_width  2.97  0.3225\n",
              "10   virginica  petal_length  5.55  0.5519\n",
              "11   virginica   petal_width  2.03  0.2747"
            ]
          },
          "metadata": {
            "tags": []
          },
          "execution_count": 19
        }
      ]
    },
    {
      "cell_type": "code",
      "metadata": {
        "colab": {
          "base_uri": "https://localhost:8080/",
          "height": 457
        },
        "id": "SAyPoGX067xy",
        "outputId": "d040afa9-8c8a-4c5c-b84f-5e1b93429b98"
      },
      "source": [
        "df.set_index(['species', 'feature'], inplace=True)\n",
        "df"
      ],
      "execution_count": 22,
      "outputs": [
        {
          "output_type": "execute_result",
          "data": {
            "text/html": [
              "<div>\n",
              "<style scoped>\n",
              "    .dataframe tbody tr th:only-of-type {\n",
              "        vertical-align: middle;\n",
              "    }\n",
              "\n",
              "    .dataframe tbody tr th {\n",
              "        vertical-align: top;\n",
              "    }\n",
              "\n",
              "    .dataframe thead th {\n",
              "        text-align: right;\n",
              "    }\n",
              "</style>\n",
              "<table border=\"1\" class=\"dataframe\">\n",
              "  <thead>\n",
              "    <tr style=\"text-align: right;\">\n",
              "      <th></th>\n",
              "      <th></th>\n",
              "      <th>mean</th>\n",
              "      <th>std</th>\n",
              "    </tr>\n",
              "    <tr>\n",
              "      <th>species</th>\n",
              "      <th>feature</th>\n",
              "      <th></th>\n",
              "      <th></th>\n",
              "    </tr>\n",
              "  </thead>\n",
              "  <tbody>\n",
              "    <tr>\n",
              "      <th rowspan=\"4\" valign=\"top\">setosa</th>\n",
              "      <th>sepal_length</th>\n",
              "      <td>5.01</td>\n",
              "      <td>0.3525</td>\n",
              "    </tr>\n",
              "    <tr>\n",
              "      <th>sepal_width</th>\n",
              "      <td>3.43</td>\n",
              "      <td>0.3791</td>\n",
              "    </tr>\n",
              "    <tr>\n",
              "      <th>petal_length</th>\n",
              "      <td>1.46</td>\n",
              "      <td>0.1737</td>\n",
              "    </tr>\n",
              "    <tr>\n",
              "      <th>petal_width</th>\n",
              "      <td>0.25</td>\n",
              "      <td>0.1054</td>\n",
              "    </tr>\n",
              "    <tr>\n",
              "      <th rowspan=\"4\" valign=\"top\">versicolor</th>\n",
              "      <th>sepal_length</th>\n",
              "      <td>5.94</td>\n",
              "      <td>0.5162</td>\n",
              "    </tr>\n",
              "    <tr>\n",
              "      <th>sepal_width</th>\n",
              "      <td>2.77</td>\n",
              "      <td>0.3138</td>\n",
              "    </tr>\n",
              "    <tr>\n",
              "      <th>petal_length</th>\n",
              "      <td>4.26</td>\n",
              "      <td>0.4699</td>\n",
              "    </tr>\n",
              "    <tr>\n",
              "      <th>petal_width</th>\n",
              "      <td>1.33</td>\n",
              "      <td>0.1978</td>\n",
              "    </tr>\n",
              "    <tr>\n",
              "      <th rowspan=\"4\" valign=\"top\">virginica</th>\n",
              "      <th>sepal_length</th>\n",
              "      <td>6.59</td>\n",
              "      <td>0.6359</td>\n",
              "    </tr>\n",
              "    <tr>\n",
              "      <th>sepal_width</th>\n",
              "      <td>2.97</td>\n",
              "      <td>0.3225</td>\n",
              "    </tr>\n",
              "    <tr>\n",
              "      <th>petal_length</th>\n",
              "      <td>5.55</td>\n",
              "      <td>0.5519</td>\n",
              "    </tr>\n",
              "    <tr>\n",
              "      <th>petal_width</th>\n",
              "      <td>2.03</td>\n",
              "      <td>0.2747</td>\n",
              "    </tr>\n",
              "  </tbody>\n",
              "</table>\n",
              "</div>"
            ],
            "text/plain": [
              "                         mean     std\n",
              "species    feature                   \n",
              "setosa     sepal_length  5.01  0.3525\n",
              "           sepal_width   3.43  0.3791\n",
              "           petal_length  1.46  0.1737\n",
              "           petal_width   0.25  0.1054\n",
              "versicolor sepal_length  5.94  0.5162\n",
              "           sepal_width   2.77  0.3138\n",
              "           petal_length  4.26  0.4699\n",
              "           petal_width   1.33  0.1978\n",
              "virginica  sepal_length  6.59  0.6359\n",
              "           sepal_width   2.97  0.3225\n",
              "           petal_length  5.55  0.5519\n",
              "           petal_width   2.03  0.2747"
            ]
          },
          "metadata": {
            "tags": []
          },
          "execution_count": 22
        }
      ]
    },
    {
      "cell_type": "code",
      "metadata": {
        "id": "3iNaRsSQ7wR4"
      },
      "source": [
        ""
      ],
      "execution_count": null,
      "outputs": []
    }
  ]
}